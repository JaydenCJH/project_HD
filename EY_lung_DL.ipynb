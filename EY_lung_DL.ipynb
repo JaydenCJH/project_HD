{
 "cells": [
  {
   "cell_type": "code",
   "execution_count": 24,
   "metadata": {},
   "outputs": [],
   "source": [
    "import numpy as np\n",
    "import pandas as pd\n",
    "pd.set_option('display.max_columns', 50)\n",
    "\n",
    "import matplotlib.pyplot as plt"
   ]
  },
  {
   "cell_type": "code",
   "execution_count": 2,
   "metadata": {},
   "outputs": [
    {
     "data": {
      "text/plain": [
       "Index(['State', 'Sex', 'GeneralHealth', 'PhysicalHealthDays',\n",
       "       'MentalHealthDays', 'LastCheckupTime', 'PhysicalActivities',\n",
       "       'SleepHours', 'RemovedTeeth', 'HadHeartAttack', 'HadAngina',\n",
       "       'HadStroke', 'HadAsthma', 'HadSkinCancer', 'HadCOPD',\n",
       "       'HadDepressiveDisorder', 'HadKidneyDisease', 'HadArthritis',\n",
       "       'HadDiabetes', 'DeafOrHardOfHearing', 'BlindOrVisionDifficulty',\n",
       "       'DifficultyConcentrating', 'DifficultyWalking',\n",
       "       'DifficultyDressingBathing', 'DifficultyErrands', 'SmokerStatus',\n",
       "       'ECigaretteUsage', 'ChestScan', 'AgeCategory', 'HeightInMeters',\n",
       "       'WeightInKilograms', 'BMI', 'AlcoholDrinkers', 'HIVTesting',\n",
       "       'FluVaxLast12', 'PneumoVaxEver', 'HighRiskLastYear', 'CovidPos',\n",
       "       'RaceEthnicityCategory_Black only, Non-Hispanic',\n",
       "       'RaceEthnicityCategory_Hispanic',\n",
       "       'RaceEthnicityCategory_Multiracial, Non-Hispanic',\n",
       "       'RaceEthnicityCategory_Other race only, Non-Hispanic',\n",
       "       'RaceEthnicityCategory_White only, Non-Hispanic',\n",
       "       'TetanusLast10Tdap_No, did not receive any tetanus shot in the past 10 years',\n",
       "       'TetanusLast10Tdap_Yes, received Tdap',\n",
       "       'TetanusLast10Tdap_Yes, received tetanus shot but not sure what type',\n",
       "       'TetanusLast10Tdap_Yes, received tetanus shot, but not Tdap'],\n",
       "      dtype='object')"
      ]
     },
     "execution_count": 2,
     "metadata": {},
     "output_type": "execute_result"
    }
   ],
   "source": [
    "data = pd.read_csv('heart_num_0228.csv')\n",
    "data.columns"
   ]
  },
  {
   "cell_type": "code",
   "execution_count": 4,
   "metadata": {},
   "outputs": [
    {
     "name": "stdout",
     "output_type": "stream",
     "text": [
      "Original data: 274034\n",
      "Remove Outlier data: 261812\n"
     ]
    }
   ],
   "source": [
    "Q1 = data[['SleepHours', 'BMI']].quantile(q = 0.25)\n",
    "Q3 = data[['SleepHours', 'BMI']].quantile(q = 0.75)\n",
    "IQR = Q3-Q1\n",
    "data_iqr = data[(data['SleepHours'] <= Q3['SleepHours']+IQR['SleepHours']*1.5)&(data['SleepHours'] >= Q1['SleepHours']-IQR['SleepHours']*1.5)]\n",
    "data_iqr = data_iqr[(data_iqr['BMI'] <= Q3['BMI']+IQR['BMI']*1.5)&(data_iqr['BMI'] >= Q1['BMI']-IQR['BMI']*1.5)]\n",
    "print('Original data:', len(data))\n",
    "print('Remove Outlier data:', len(data_iqr))"
   ]
  },
  {
   "cell_type": "code",
   "execution_count": 6,
   "metadata": {},
   "outputs": [
    {
     "name": "stdout",
     "output_type": "stream",
     "text": [
      "50187\n",
      "211625\n"
     ]
    }
   ],
   "source": [
    "data_iqr['LungDisease'] = 0\n",
    "data_iqr.loc[data_iqr['HadAsthma'] == 1, 'LungDisease'] = 1\n",
    "data_iqr.loc[data_iqr['HadCOPD'] == 1, 'LungDisease'] = 1\n",
    "print(len(data_iqr[data_iqr['LungDisease'] == 1]))\n",
    "print(len(data_iqr[data_iqr['LungDisease'] == 0]))"
   ]
  },
  {
   "cell_type": "code",
   "execution_count": 7,
   "metadata": {},
   "outputs": [],
   "source": [
    "X = data_iqr.drop(['LungDisease', 'HadAsthma', 'HadCOPD'], axis = 1)\n",
    "y = data_iqr['LungDisease']"
   ]
  },
  {
   "cell_type": "code",
   "execution_count": 8,
   "metadata": {},
   "outputs": [],
   "source": [
    "from imblearn.over_sampling import SMOTE"
   ]
  },
  {
   "cell_type": "code",
   "execution_count": 9,
   "metadata": {},
   "outputs": [
    {
     "name": "stdout",
     "output_type": "stream",
     "text": [
      "Original Data: 261812\n",
      "Resampled Data: 423250\n"
     ]
    }
   ],
   "source": [
    "smo = SMOTE(random_state = 1234)\n",
    "X_re, y_re = smo.fit_resample(X, y)\n",
    "print('Original Data:', len(X))\n",
    "print('Resampled Data:', len(X_re))"
   ]
  },
  {
   "cell_type": "code",
   "execution_count": 10,
   "metadata": {},
   "outputs": [],
   "source": [
    "from sklearn.model_selection import train_test_split"
   ]
  },
  {
   "cell_type": "code",
   "execution_count": 11,
   "metadata": {},
   "outputs": [],
   "source": [
    "X_train, X_test, y_train, y_test = train_test_split(X_re, y_re, test_size = 0.2, random_state = 1234)"
   ]
  },
  {
   "cell_type": "code",
   "execution_count": 12,
   "metadata": {},
   "outputs": [],
   "source": [
    "from sklearn.preprocessing import RobustScaler"
   ]
  },
  {
   "cell_type": "code",
   "execution_count": 13,
   "metadata": {},
   "outputs": [],
   "source": [
    "rbs = RobustScaler()\n",
    "X_trn = rbs.fit_transform(X_train)\n",
    "X_tst = rbs.transform(X_test)"
   ]
  },
  {
   "cell_type": "code",
   "execution_count": 14,
   "metadata": {},
   "outputs": [
    {
     "name": "stdout",
     "output_type": "stream",
     "text": [
      "WARNING:tensorflow:From c:\\Users\\god12\\Anaconda3\\envs\\wassup\\Lib\\site-packages\\keras\\src\\losses.py:2976: The name tf.losses.sparse_softmax_cross_entropy is deprecated. Please use tf.compat.v1.losses.sparse_softmax_cross_entropy instead.\n",
      "\n"
     ]
    }
   ],
   "source": [
    "from tensorflow.keras.models import Sequential\n",
    "from tensorflow.keras.layers import Dense\n",
    "from keras.callbacks import EarlyStopping"
   ]
  },
  {
   "cell_type": "code",
   "execution_count": 16,
   "metadata": {},
   "outputs": [],
   "source": [
    "from keras import backend as K\n",
    "\n",
    "def recall_m(y_true, y_pred):\n",
    "    true_positives = K.sum(K.round(K.clip(y_true * y_pred, 0, 1)))\n",
    "    possible_positives = K.sum(K.round(K.clip(y_true, 0, 1)))\n",
    "    recall = true_positives / (possible_positives + K.epsilon())\n",
    "    return recall\n",
    "\n",
    "def precision_m(y_true, y_pred):\n",
    "    true_positives = K.sum(K.round(K.clip(y_true * y_pred, 0, 1)))\n",
    "    predicted_positives = K.sum(K.round(K.clip(y_pred, 0, 1)))\n",
    "    precision = true_positives / (predicted_positives + K.epsilon())\n",
    "    return precision\n",
    "\n",
    "def f1_m(y_true, y_pred):\n",
    "    precision = precision_m(y_true, y_pred)\n",
    "    recall = recall_m(y_true, y_pred)\n",
    "    return 2*((precision*recall)/(precision+recall+K.epsilon()))"
   ]
  },
  {
   "cell_type": "code",
   "execution_count": 15,
   "metadata": {},
   "outputs": [
    {
     "name": "stdout",
     "output_type": "stream",
     "text": [
      "(338600, 45)\n"
     ]
    }
   ],
   "source": [
    "print(X_trn.shape)"
   ]
  },
  {
   "cell_type": "code",
   "execution_count": 17,
   "metadata": {},
   "outputs": [
    {
     "name": "stdout",
     "output_type": "stream",
     "text": [
      "WARNING:tensorflow:From c:\\Users\\god12\\Anaconda3\\envs\\wassup\\Lib\\site-packages\\keras\\src\\backend.py:873: The name tf.get_default_graph is deprecated. Please use tf.compat.v1.get_default_graph instead.\n",
      "\n",
      "WARNING:tensorflow:From c:\\Users\\god12\\Anaconda3\\envs\\wassup\\Lib\\site-packages\\keras\\src\\optimizers\\__init__.py:309: The name tf.train.Optimizer is deprecated. Please use tf.compat.v1.train.Optimizer instead.\n",
      "\n",
      "Epoch 1/100\n",
      "WARNING:tensorflow:From c:\\Users\\god12\\Anaconda3\\envs\\wassup\\Lib\\site-packages\\keras\\src\\utils\\tf_utils.py:492: The name tf.ragged.RaggedTensorValue is deprecated. Please use tf.compat.v1.ragged.RaggedTensorValue instead.\n",
      "\n",
      "WARNING:tensorflow:From c:\\Users\\god12\\Anaconda3\\envs\\wassup\\Lib\\site-packages\\keras\\src\\engine\\base_layer_utils.py:384: The name tf.executing_eagerly_outside_functions is deprecated. Please use tf.compat.v1.executing_eagerly_outside_functions instead.\n",
      "\n",
      "33860/33860 [==============================] - 57s 2ms/step - loss: 0.3766 - accuracy: 0.8218 - f1_m: 0.7789 - precision_m: 0.9015 - recall_m: 0.7184\n",
      "Epoch 2/100\n",
      "33860/33860 [==============================] - 58s 2ms/step - loss: 0.3507 - accuracy: 0.8383 - f1_m: 0.8002 - precision_m: 0.9150 - recall_m: 0.7411\n",
      "Epoch 3/100\n",
      "33860/33860 [==============================] - 68s 2ms/step - loss: 0.3397 - accuracy: 0.8451 - f1_m: 0.8085 - precision_m: 0.9230 - recall_m: 0.7485\n",
      "Epoch 4/100\n",
      "33860/33860 [==============================] - 82s 2ms/step - loss: 0.3354 - accuracy: 0.8477 - f1_m: 0.8113 - precision_m: 0.9251 - recall_m: 0.7510\n",
      "Epoch 5/100\n",
      "33860/33860 [==============================] - 84s 2ms/step - loss: 0.3318 - accuracy: 0.8502 - f1_m: 0.8150 - precision_m: 0.9280 - recall_m: 0.7545\n",
      "Epoch 6/100\n",
      "33860/33860 [==============================] - 80s 2ms/step - loss: 0.3289 - accuracy: 0.8521 - f1_m: 0.8174 - precision_m: 0.9300 - recall_m: 0.7572\n",
      "Epoch 7/100\n",
      "33860/33860 [==============================] - 80s 2ms/step - loss: 0.3257 - accuracy: 0.8545 - f1_m: 0.8192 - precision_m: 0.9335 - recall_m: 0.7577\n",
      "Epoch 8/100\n",
      "33860/33860 [==============================] - 77s 2ms/step - loss: 0.3226 - accuracy: 0.8558 - f1_m: 0.8216 - precision_m: 0.9348 - recall_m: 0.7598\n",
      "Epoch 9/100\n",
      "33860/33860 [==============================] - 75s 2ms/step - loss: 0.3207 - accuracy: 0.8571 - f1_m: 0.8225 - precision_m: 0.9367 - recall_m: 0.7603\n",
      "Epoch 10/100\n",
      "33860/33860 [==============================] - 84s 2ms/step - loss: 0.3188 - accuracy: 0.8586 - f1_m: 0.8242 - precision_m: 0.9382 - recall_m: 0.7617\n",
      "Epoch 11/100\n",
      "33860/33860 [==============================] - 75s 2ms/step - loss: 0.3174 - accuracy: 0.8587 - f1_m: 0.8247 - precision_m: 0.9387 - recall_m: 0.7623\n",
      "Epoch 12/100\n",
      "33860/33860 [==============================] - 77s 2ms/step - loss: 0.3166 - accuracy: 0.8600 - f1_m: 0.8264 - precision_m: 0.9400 - recall_m: 0.7639\n",
      "Epoch 13/100\n",
      "33860/33860 [==============================] - 83s 2ms/step - loss: 0.3155 - accuracy: 0.8601 - f1_m: 0.8268 - precision_m: 0.9396 - recall_m: 0.7649\n",
      "Epoch 14/100\n",
      "33860/33860 [==============================] - 74s 2ms/step - loss: 0.3147 - accuracy: 0.8607 - f1_m: 0.8273 - precision_m: 0.9413 - recall_m: 0.7649\n",
      "Epoch 15/100\n",
      "33860/33860 [==============================] - 87s 3ms/step - loss: 0.3137 - accuracy: 0.8612 - f1_m: 0.8275 - precision_m: 0.9414 - recall_m: 0.7648\n",
      "Epoch 16/100\n",
      "33860/33860 [==============================] - 73s 2ms/step - loss: 0.3132 - accuracy: 0.8613 - f1_m: 0.8277 - precision_m: 0.9411 - recall_m: 0.7652\n",
      "Epoch 17/100\n",
      "33860/33860 [==============================] - 85s 3ms/step - loss: 0.3127 - accuracy: 0.8619 - f1_m: 0.8297 - precision_m: 0.9440 - recall_m: 0.7667\n",
      "Epoch 18/100\n",
      "33860/33860 [==============================] - 76s 2ms/step - loss: 0.3119 - accuracy: 0.8622 - f1_m: 0.8290 - precision_m: 0.9438 - recall_m: 0.7653\n",
      "Epoch 19/100\n",
      "33860/33860 [==============================] - 72s 2ms/step - loss: 0.3112 - accuracy: 0.8623 - f1_m: 0.8291 - precision_m: 0.9432 - recall_m: 0.7663\n",
      "Epoch 20/100\n",
      "33860/33860 [==============================] - 61s 2ms/step - loss: 0.3114 - accuracy: 0.8623 - f1_m: 0.8289 - precision_m: 0.9429 - recall_m: 0.7660\n",
      "Epoch 21/100\n",
      "33860/33860 [==============================] - 53s 2ms/step - loss: 0.3107 - accuracy: 0.8626 - f1_m: 0.8285 - precision_m: 0.9426 - recall_m: 0.7656\n",
      "Epoch 22/100\n",
      "33860/33860 [==============================] - 53s 2ms/step - loss: 0.3099 - accuracy: 0.8628 - f1_m: 0.8299 - precision_m: 0.9429 - recall_m: 0.7676\n",
      "Epoch 23/100\n",
      "33860/33860 [==============================] - 56s 2ms/step - loss: 0.3096 - accuracy: 0.8638 - f1_m: 0.8304 - precision_m: 0.9452 - recall_m: 0.7667\n",
      "Epoch 24/100\n",
      "33860/33860 [==============================] - 63s 2ms/step - loss: 0.3093 - accuracy: 0.8636 - f1_m: 0.8312 - precision_m: 0.9456 - recall_m: 0.7679\n"
     ]
    }
   ],
   "source": [
    "es = EarlyStopping(monitor = 'accuracy')\n",
    "\n",
    "model = Sequential()\n",
    "model.add(Dense(50, input_dim = 45, activation = 'relu'))\n",
    "model.add(Dense(28, activation = 'relu'))\n",
    "model.add(Dense(16, activation = 'relu'))\n",
    "model.add(Dense(8, activation = 'relu'))\n",
    "model.add(Dense(1, activation = 'sigmoid'))\n",
    "\n",
    "model.compile(loss = 'binary_crossentropy', optimizer = 'adam', metrics = ['accuracy', f1_m, precision_m, recall_m])\n",
    "history = model.fit(X_trn, y_train, epochs = 100, batch_size = 10, callbacks = [es])"
   ]
  },
  {
   "cell_type": "code",
   "execution_count": 18,
   "metadata": {},
   "outputs": [
    {
     "name": "stdout",
     "output_type": "stream",
     "text": [
      "10582/10582 [==============================] - 13s 1ms/step - loss: 0.3061 - accuracy: 0.8653 - f1_m: 0.8454 - precision_m: 0.9623 - recall_m: 0.7612\n",
      "Loss: 0.3061\n",
      "Accuracy: 86.53%\n",
      "F1 Score: 0.8454\n"
     ]
    }
   ],
   "source": [
    "loss, acc, f1, precision, recall = model.evaluate(X_trn, y_train)\n",
    "print(f'Loss: {loss:.4f}')\n",
    "print(f'Accuracy: {acc*100:.2f}%')\n",
    "print(f'F1 Score: {f1:.4f}')"
   ]
  },
  {
   "cell_type": "code",
   "execution_count": 23,
   "metadata": {},
   "outputs": [],
   "source": [
    "y_loss = history.history['loss']\n",
    "y_acc = history.history['accuracy']\n",
    "y_f1 = history.history['f1_m']"
   ]
  },
  {
   "cell_type": "code",
   "execution_count": 26,
   "metadata": {},
   "outputs": [
    {
     "data": {
      "image/png": "[encoded data removed]",
      "text/plain": [
       "<Figure size 640x480 with 1 Axes>"
      ]
     },
     "metadata": {},
     "output_type": "display_data"
    }
   ],
   "source": [
    "x_len = np.arange(len(y_acc))\n",
    "\n",
    "plt.plot(x_len, y_loss,  c = 'red', markersize = 3)\n",
    "plt.plot(x_len, y_acc, c = 'blue', markersize = 3)\n",
    "plt.plot(x_len, y_f1, c = 'green', markersize = 3)\n",
    "plt.show()"
   ]
  },
  {
   "cell_type": "code",
   "execution_count": null,
   "metadata": {},
   "outputs": [],
   "source": []
  }
 ],
 "metadata": {
  "kernelspec": {
   "display_name": "wassup",
   "language": "python",
   "name": "python3"
  },
  "language_info": {
   "codemirror_mode": {
    "name": "ipython",
    "version": 3
   },
   "file_extension": ".py",
   "mimetype": "text/x-python",
   "name": "python",
   "nbconvert_exporter": "python",
   "pygments_lexer": "ipython3",
   "version": "3.11.7"
  }
 },
 "nbformat": 4,
 "nbformat_minor": 2
}
