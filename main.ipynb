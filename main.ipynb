{
 "cells": [
  {
   "cell_type": "code",
   "execution_count": 262,
   "metadata": {},
   "outputs": [],
   "source": [
    "#About the data:\n",
    "#https://www.kaggle.com/datasets/kamilpytlak/personal-key-indicators-of-heart-disease\n",
    "\n",
    "# State\t                    : 거주구역\n",
    "# Sex\t                    : 성별\n",
    "# GeneralHealth\t            : 일상적인 몸 상태 [Excellent, Very good, Good, Fair, Poor]\n",
    "# PhysicalHealthDays\t    : 30일 기준, 질병이나 부상 등 신체적으로 아픈 날 수\n",
    "# MentalHealthDays\t        : 30일 기준, 우울이나 스트레스 등 정신적으로 아픈 날 수\n",
    "# LastCheckupTime\t        : 마지막으로 검진 받은 기록 [1년 이내, 1~2년, 2~5년, 5년 이상]\n",
    "# PhysicalActivities\t    : 운동 / 신체적 활동 있는지\n",
    "# SleepHours\t            : 수면 시간\n",
    "# RemovedTeeth\t            : 발치 수\n",
    "# HadHeartAttack\t        : 심장마비 경험\n",
    "# HadAngina                 : 협심증\n",
    "# HadStroke                 : 뇌졸증\n",
    "# HadAsthma                 : 천식\n",
    "# HadSkinCancer             : 피부암\n",
    "# HadCOPD                   : 만성폐쇄성폐질환\n",
    "# HadDepressiveDisorder     : 우울증\n",
    "# HadKidneyDisease          : 신부증\n",
    "# HadArthritis              : 관절염\n",
    "# HadDiabetes               : 당뇨 [당뇨 아님, 전당뇨거나 경계성 당뇨, 임신성 당뇨, 당뇨]\n",
    "# DeafOrHardOfHearing       : 청각장애\n",
    "# BlindOrVisionDifficulty\t: 시각장애\n",
    "# DifficultyConcentrating\t: 집중하기 힘듦\n",
    "# DifficultyWalking\t        : 걷기 힘듦\n",
    "# DifficultyDressingBathing\t: 스스로 옷을 입거나 씻기 힘듦\n",
    "# DifficultyErrands\t        : 일상 업무에 어려움\n",
    "# SmokerStatus\t            : 흡연자 [비흡연자, 금연, 종종 흡연, 매일 흡연]\n",
    "# ECigaretteUsage\t        : 전자담배 흡연자 [경헙 없음, 현재는 사용하지 않음, 종종 흡연, 매일 흡연]\n",
    "# ChestScan\t                : 가슴 CT 나 X-ray 촬영 여부\n",
    "# RaceEthnicityCategory\t    : 인종 [히스패닉, 흑인, 백인, 여러인종, 다른 인종) [다른 인종들은 히스패닉이 아닌 경우에만 표시]\n",
    "# AgeCategory\t            : 나이 카테고리 [18~24, 25~29, 30~34, 35~39, 40~44, 45~49, 50~54, 55~59, 60~64, 65~69, 70~74, 75~79, 80이상]\n",
    "# HeightInMeters\t        : 키\n",
    "# WeightInKilograms\t        : 몸무게\n",
    "# BMI\t                    : BMI\n",
    "# AlcoholDrinkers\t        : 음주 여부\n",
    "# HIVTesting\t            : HIV 검사 결과\n",
    "# FluVaxLast12\t            : 12개월 안에 감기 백신 접종 여부\n",
    "# PneumoVaxEver\t            : 폐렴 백신 접종 경험\n",
    "# TetanusLast10Tdap\t        : 10년 안에 파상풍 주사 경험 [경험 없음, Tdap 주사, Tdap 외의 다른 약물 주사, 어떤 약물인지 모름]\n",
    "# HighRiskLastYear\t        : 지난해 위험한 사고나 질병 경험 유무\n",
    "# CovidPos                  : 코로나 확진 여부\n",
    "\n",
    "\n",
    "# KR_columns = ['거주지역', '성별', '평균 몸 상태', '신체적 통증 유발 수(1개월)',\n",
    "#        '정신적 통증 유발 수(한 달)', '최종 검진 기록', '신체적 활동 유무',\n",
    "#        '수면 시간', '발치 수', '심장마비 경험', '협심증',\n",
    "#        '뇌졸증', '천식', '피부암', '만성폐쇄성폐질환',\n",
    "#        '우울증', '신부증', '관절염',\n",
    "#        '당뇨', '청각장애', '시각장애',\n",
    "#        '집중도 상태', '걷기 상태',\n",
    "#        '스스로 샤워 및 복장 착용 여부', '일상 업무 어려움', '흡연 여부',\n",
    "#        '전자담배 흡연 여부', '가슴 CT 및 X-ray 촬영 여부', '인종', '나이',\n",
    "#        '키', '몸무게', '신체 질량 지수', '음주 여부',\n",
    "#        'HIV 검사 결과', '감기 백신 접종 여부(1년)', '폐렴 백신 접종 여부', '파상풍 주사 접종 여부(10년)',\n",
    "#        '중상 및 중병 경험 유무(1년)', '코로나 확진 여부']"
   ]
  },
  {
   "cell_type": "markdown",
   "metadata": {},
   "source": [
    "보통 심장병의 제일 큰 major factor 는 고혈압, 고 콜레스트롤, 담배.\n",
    "그 외, 당뇨, 비만 (BMI 높음), 신체적 활동, 음주과다 등도 있음.\n",
    "classes are unbalanced. "
   ]
  },
  {
   "cell_type": "code",
   "execution_count": 263,
   "metadata": {},
   "outputs": [],
   "source": [
    "import pandas as pd\n",
    "import matplotlib.pyplot as plt\n",
    "import numpy as np\n",
    "import seaborn as sns\n",
    "from sklearn.preprocessing import LabelEncoder, OneHotEncoder\n",
    "from sklearn.model_selection import train_test_split\n",
    "from sklearn.metrics import accuracy_score\n",
    "from sklearn.metrics import f1_score\n",
    "from sklearn.preprocessing import RobustScaler, StandardScaler, MaxAbsScaler\n",
    "import lightgbm as lgb\n",
    "from sklearn.ensemble import RandomForestClassifier\n",
    "from collections import Counter\n",
    "from sklearn.svm import SVC\n",
    "from sklearn.pipeline import make_pipeline"
   ]
  },
  {
   "cell_type": "code",
   "execution_count": null,
   "metadata": {},
   "outputs": [],
   "source": [
    "dataset = pd.read_csv(\"heart_2022_with_nans.csv\")\n",
    "print(dataset.shape)\n",
    "dataset.head()"
   ]
  },
  {
   "cell_type": "markdown",
   "metadata": {},
   "source": [
    "# 데이터 포멧 등 확인"
   ]
  },
  {
   "cell_type": "code",
   "execution_count": null,
   "metadata": {},
   "outputs": [],
   "source": [
    "dataset.columns"
   ]
  },
  {
   "cell_type": "code",
   "execution_count": null,
   "metadata": {},
   "outputs": [],
   "source": [
    "dataset.describe()"
   ]
  },
  {
   "cell_type": "code",
   "execution_count": null,
   "metadata": {},
   "outputs": [],
   "source": [
    "dataset.info()"
   ]
  },
  {
   "cell_type": "code",
   "execution_count": null,
   "metadata": {},
   "outputs": [],
   "source": [
    "dataset.isna().sum()"
   ]
  },
  {
   "cell_type": "code",
   "execution_count": null,
   "metadata": {},
   "outputs": [],
   "source": [
    "dataset.isnull().sum()"
   ]
  },
  {
   "cell_type": "markdown",
   "metadata": {},
   "source": [
    "# 데이터 결측치 처리"
   ]
  },
  {
   "cell_type": "code",
   "execution_count": 270,
   "metadata": {},
   "outputs": [],
   "source": [
    "dataset['GeneralHealth'].value_counts()\n",
    "dataset['GeneralHealth'] = dataset['GeneralHealth'].fillna(\"Fair\")   # 평균 몸 상태의 결측치를 무난(Fair)으로 대체"
   ]
  },
  {
   "cell_type": "code",
   "execution_count": 271,
   "metadata": {},
   "outputs": [],
   "source": [
    "dataset['PhysicalHealthDays'].mean()\n",
    "null_PhysicalHealthD = int(dataset['PhysicalHealthDays'].mean())\n",
    "null_PhysicalHealthD                                                              # 신체적 통증 유발 총 일 결측치를 평균값으로 대체\n",
    "dataset['PhysicalHealthDays'] = dataset['PhysicalHealthDays'].fillna(null_PhysicalHealthD)"
   ]
  },
  {
   "cell_type": "code",
   "execution_count": 274,
   "metadata": {},
   "outputs": [],
   "source": [
    "dataset['MentalHealthDays'].mean()\n",
    "null_MentalHealthD = int(dataset['MentalHealthDays'].mean())\n",
    "null_MentalHealthD                                                                 # 정신적 통증 유발 총 일 결측치를 평균값으로 대체\n",
    "\n",
    "dataset['MentalHealthDays'] = dataset['MentalHealthDays'].fillna(null_MentalHealthD) # 신체적 통증 유발 총 일을 평균값으로 대체"
   ]
  },
  {
   "cell_type": "code",
   "execution_count": 275,
   "metadata": {},
   "outputs": [],
   "source": [
    "\n",
    "null_LastCheckupTime = dataset['LastCheckupTime'].value_counts().index[0]\n",
    "\n",
    "dataset['LastCheckupTime'] = dataset['LastCheckupTime'].fillna(null_LastCheckupTime)"
   ]
  },
  {
   "cell_type": "code",
   "execution_count": 276,
   "metadata": {},
   "outputs": [],
   "source": [
    "dataset['PhysicalActivities'].value_counts()\n",
    "dataset['PhysicalActivities'] = dataset['PhysicalActivities'].fillna(\"No\")"
   ]
  },
  {
   "cell_type": "code",
   "execution_count": 277,
   "metadata": {},
   "outputs": [],
   "source": [
    "dataset['SleepHours'].value_counts()\n",
    "dataset['SleepHours'] = dataset['SleepHours'].fillna(7.0)"
   ]
  },
  {
   "cell_type": "code",
   "execution_count": 278,
   "metadata": {},
   "outputs": [],
   "source": [
    "dataset['RemovedTeeth'] = dataset['RemovedTeeth'].fillna(\"None of Them\")"
   ]
  },
  {
   "cell_type": "code",
   "execution_count": 284,
   "metadata": {},
   "outputs": [
    {
     "data": {
      "text/plain": [
       "State                            0\n",
       "Sex                              0\n",
       "GeneralHealth                    0\n",
       "PhysicalHealthDays               0\n",
       "MentalHealthDays                 0\n",
       "LastCheckupTime                  0\n",
       "PhysicalActivities               0\n",
       "SleepHours                       0\n",
       "RemovedTeeth                     0\n",
       "HadHeartAttack                   0\n",
       "HadAngina                        0\n",
       "HadStroke                        0\n",
       "HadAsthma                        0\n",
       "HadSkinCancer                    0\n",
       "HadCOPD                          0\n",
       "HadDepressiveDisorder            0\n",
       "HadKidneyDisease                 0\n",
       "HadArthritis                     0\n",
       "HadDiabetes                      0\n",
       "DeafOrHardOfHearing              0\n",
       "BlindOrVisionDifficulty          0\n",
       "DifficultyConcentrating       1670\n",
       "DifficultyWalking              823\n",
       "DifficultyDressingBathing      305\n",
       "DifficultyErrands              711\n",
       "SmokerStatus                     0\n",
       "ECigaretteUsage                  0\n",
       "ChestScan                    13428\n",
       "RaceEthnicityCategory         8312\n",
       "AgeCategory                   3627\n",
       "HeightInMeters                   0\n",
       "WeightInKilograms                0\n",
       "BMI                              0\n",
       "AlcoholDrinkers                  0\n",
       "HIVTesting                   20135\n",
       "FluVaxLast12                  4426\n",
       "PneumoVaxEver                30349\n",
       "TetanusLast10Tdap            33793\n",
       "HighRiskLastYear              7530\n",
       "CovidPos                      7714\n",
       "dtype: int64"
      ]
     },
     "execution_count": 284,
     "metadata": {},
     "output_type": "execute_result"
    }
   ],
   "source": [
    "dataset = dataset.dropna(subset=['HadHeartAttack', 'HadAngina',\n",
    "       'HadStroke', 'HadAsthma', 'HadSkinCancer', 'HadCOPD',\n",
    "       'HadDepressiveDisorder', 'HadKidneyDisease', 'HadArthritis',\n",
    "       'HadDiabetes', 'DeafOrHardOfHearing', 'BlindOrVisionDifficulty',\n",
    "       'SmokerStatus', 'ECigaretteUsage', 'AlcoholDrinkers', ], how='any', axis=0)                                    \n",
    "\n",
    "# 해당 feature의 결측치는 어떤 대체값을 넣든 부적합하다고 판단, 행 제거 작업을 시행\n",
    "\n",
    "\n",
    "dataset.isna().sum()"
   ]
  },
  {
   "cell_type": "code",
   "execution_count": 295,
   "metadata": {},
   "outputs": [
    {
     "data": {
      "text/plain": [
       "WeightInKilograms\n",
       "90.72     18690\n",
       "81.65     17310\n",
       "68.04     15287\n",
       "72.57     15060\n",
       "77.11     14092\n",
       "          ...  \n",
       "183.25        1\n",
       "250.38        1\n",
       "228.61        1\n",
       "223.62        1\n",
       "189.00        1\n",
       "Name: count, Length: 572, dtype: int64"
      ]
     },
     "execution_count": 295,
     "metadata": {},
     "output_type": "execute_result"
    }
   ],
   "source": [
    "dataset.dropna(subset=['HeightInMeters', 'WeightInKilograms'], how='any', inplace=True)\n",
    "dataset['HeightInMeters'].value_counts()\n",
    "dataset['WeightInKilograms'].value_counts()\n",
    "\n",
    "\n",
    "#dataset['BMI'] = dataset.apply(lambda row: row['WeightInKilograms'] / ((row['HeightInMeters']*100)** 2) if pd.isnull(row['BMI']) else row['BMI'], axis=1)\n",
    "\n",
    "\n",
    "#dataset['BMI'].value_counts()\n",
    "\n",
    "# 키와 몸무게를 통해 BMI를 계산\n",
    "# 만약 키와 몸무게 데이터가 없을 시 해당 행은 삭제"
   ]
  },
  {
   "cell_type": "code",
   "execution_count": 282,
   "metadata": {},
   "outputs": [
    {
     "data": {
      "text/plain": [
       "<Axes: xlabel='HadHeartAttack', ylabel='count'>"
      ]
     },
     "execution_count": 282,
     "metadata": {},
     "output_type": "execute_result"
    },
    {
     "data": {
      "image/png": "[encoded data removed]",
      "text/plain": [
       "<Figure size 1200x600 with 1 Axes>"
      ]
     },
     "metadata": {},
     "output_type": "display_data"
    }
   ],
   "source": [
    "plt.figure(figsize = (12, 6))\n",
    "\n",
    "sns.countplot(x = 'HadHeartAttack', data = dataset)"
   ]
  }
 ],
 "metadata": {
  "kernelspec": {
   "display_name": "base",
   "language": "python",
   "name": "python3"
  },
  "language_info": {
   "codemirror_mode": {
    "name": "ipython",
    "version": 3
   },
   "file_extension": ".py",
   "mimetype": "text/x-python",
   "name": "python",
   "nbconvert_exporter": "python",
   "pygments_lexer": "ipython3",
   "version": "3.11.8"
  }
 },
 "nbformat": 4,
 "nbformat_minor": 2
}
