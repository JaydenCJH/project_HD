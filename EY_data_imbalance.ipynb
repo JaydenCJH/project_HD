{
 "cells": [
  {
   "cell_type": "code",
   "execution_count": 1,
   "metadata": {},
   "outputs": [],
   "source": [
    "import pandas as pd"
   ]
  },
  {
   "cell_type": "code",
   "execution_count": 2,
   "metadata": {},
   "outputs": [
    {
     "name": "stdout",
     "output_type": "stream",
     "text": [
      "445132\n"
     ]
    }
   ],
   "source": [
    "data = pd.read_csv('heart_2022_with_nans.csv')\n",
    "print(len(data))"
   ]
  },
  {
   "cell_type": "code",
   "execution_count": 3,
   "metadata": {},
   "outputs": [
    {
     "name": "stdout",
     "output_type": "stream",
     "text": [
      "246022\n"
     ]
    }
   ],
   "source": [
    "tmp = data.dropna()\n",
    "print(len(tmp))"
   ]
  },
  {
   "cell_type": "code",
   "execution_count": 4,
   "metadata": {},
   "outputs": [
    {
     "name": "stdout",
     "output_type": "stream",
     "text": [
      "40\n"
     ]
    }
   ],
   "source": [
    "print(len(data.columns))"
   ]
  },
  {
   "cell_type": "code",
   "execution_count": 4,
   "metadata": {},
   "outputs": [
    {
     "name": "stdout",
     "output_type": "stream",
     "text": [
      "25108\n",
      "13435\n",
      "\n",
      "416959\n",
      "232587\n"
     ]
    }
   ],
   "source": [
    "print(len(data[data['HadHeartAttack'] == 'Yes']))\n",
    "print(len(tmp[tmp['HadHeartAttack'] == 'Yes']))\n",
    "print()\n",
    "print(len(data[data['HadHeartAttack'] == 'No']))\n",
    "print(len(tmp[tmp['HadHeartAttack'] == 'No']))"
   ]
  },
  {
   "cell_type": "code",
   "execution_count": 5,
   "metadata": {},
   "outputs": [],
   "source": [
    "import matplotlib.pyplot as plt\n",
    "import seaborn as sns"
   ]
  },
  {
   "cell_type": "code",
   "execution_count": 6,
   "metadata": {},
   "outputs": [
    {
     "data": {
      "text/plain": [
       "<Axes: xlabel='HadHeartAttack', ylabel='count'>"
      ]
     },
     "execution_count": 6,
     "metadata": {},
     "output_type": "execute_result"
    },
    {
     "data": {
      "image/png": "[encoded data removed]",
      "text/plain": [
       "<Figure size 400x300 with 1 Axes>"
      ]
     },
     "metadata": {},
     "output_type": "display_data"
    }
   ],
   "source": [
    "plt.figure(figsize = (4, 3))\n",
    "sns.countplot(x = 'HadHeartAttack', data = data)"
   ]
  },
  {
   "cell_type": "code",
   "execution_count": 7,
   "metadata": {},
   "outputs": [
    {
     "name": "stderr",
     "output_type": "stream",
     "text": [
      "C:\\Users\\god12\\AppData\\Local\\Temp\\ipykernel_14300\\2879740624.py:1: SettingWithCopyWarning: \n",
      "A value is trying to be set on a copy of a slice from a DataFrame.\n",
      "Try using .loc[row_indexer,col_indexer] = value instead\n",
      "\n",
      "See the caveats in the documentation: https://pandas.pydata.org/pandas-docs/stable/user_guide/indexing.html#returning-a-view-versus-a-copy\n",
      "  tmp['HeartDisease'] = 0\n"
     ]
    }
   ],
   "source": [
    "tmp['HeartDisease'] = 0\n",
    "tmp.loc[tmp['HadHeartAttack'] == 'Yes', 'HeartDisease'] = 1\n",
    "tmp.loc[tmp['HadAngina'] == 'Yes', 'HeartDisease'] = 1"
   ]
  },
  {
   "cell_type": "code",
   "execution_count": 8,
   "metadata": {},
   "outputs": [
    {
     "data": {
      "text/plain": [
       "<Axes: xlabel='HeartDisease', ylabel='count'>"
      ]
     },
     "execution_count": 8,
     "metadata": {},
     "output_type": "execute_result"
    },
    {
     "data": {
      "image/png": "[encoded data removed]",
      "text/plain": [
       "<Figure size 400x300 with 1 Axes>"
      ]
     },
     "metadata": {},
     "output_type": "display_data"
    }
   ],
   "source": [
    "plt.figure(figsize = (4, 3))\n",
    "sns.countplot(x = 'HeartDisease', data = tmp)"
   ]
  },
  {
   "cell_type": "markdown",
   "metadata": {},
   "source": [
    "## Random Over Sampler"
   ]
  },
  {
   "cell_type": "code",
   "execution_count": 9,
   "metadata": {},
   "outputs": [],
   "source": [
    "from imblearn.over_sampling import RandomOverSampler\n",
    "from collections import Counter"
   ]
  },
  {
   "cell_type": "code",
   "execution_count": 10,
   "metadata": {},
   "outputs": [],
   "source": [
    "X = tmp.drop(['HadHeartAttack', 'HadAngina', 'HeartDisease'], axis = 1)\n",
    "y = tmp['HeartDisease']"
   ]
  },
  {
   "cell_type": "code",
   "execution_count": 12,
   "metadata": {},
   "outputs": [
    {
     "name": "stdout",
     "output_type": "stream",
     "text": [
      "Original Dataset shape Counter({0: 224406, 1: 21616})\n",
      "Resampled Dataset shape Counter({0: 224406, 1: 224406})\n"
     ]
    }
   ],
   "source": [
    "print('Original Dataset shape %s' % Counter(y))\n",
    "ros = RandomOverSampler(random_state = 1234)\n",
    "X_ros, y_ros = ros.fit_resample(X, y)\n",
    "print('Resampled Dataset shape %s' % Counter(y_ros))"
   ]
  },
  {
   "cell_type": "code",
   "execution_count": 19,
   "metadata": {},
   "outputs": [
    {
     "data": {
      "text/html": [
       "<div>\n",
       "<style scoped>\n",
       "    .dataframe tbody tr th:only-of-type {\n",
       "        vertical-align: middle;\n",
       "    }\n",
       "\n",
       "    .dataframe tbody tr th {\n",
       "        vertical-align: top;\n",
       "    }\n",
       "\n",
       "    .dataframe thead th {\n",
       "        text-align: right;\n",
       "    }\n",
       "</style>\n",
       "<table border=\"1\" class=\"dataframe\">\n",
       "  <thead>\n",
       "    <tr style=\"text-align: right;\">\n",
       "      <th></th>\n",
       "      <th>State</th>\n",
       "      <th>Sex</th>\n",
       "      <th>GeneralHealth</th>\n",
       "      <th>PhysicalHealthDays</th>\n",
       "      <th>MentalHealthDays</th>\n",
       "      <th>LastCheckupTime</th>\n",
       "      <th>PhysicalActivities</th>\n",
       "      <th>SleepHours</th>\n",
       "      <th>RemovedTeeth</th>\n",
       "      <th>HadStroke</th>\n",
       "      <th>...</th>\n",
       "      <th>WeightInKilograms</th>\n",
       "      <th>BMI</th>\n",
       "      <th>AlcoholDrinkers</th>\n",
       "      <th>HIVTesting</th>\n",
       "      <th>FluVaxLast12</th>\n",
       "      <th>PneumoVaxEver</th>\n",
       "      <th>TetanusLast10Tdap</th>\n",
       "      <th>HighRiskLastYear</th>\n",
       "      <th>CovidPos</th>\n",
       "      <th>HeartDisease</th>\n",
       "    </tr>\n",
       "  </thead>\n",
       "  <tbody>\n",
       "    <tr>\n",
       "      <th>0</th>\n",
       "      <td>Alabama</td>\n",
       "      <td>Female</td>\n",
       "      <td>Very good</td>\n",
       "      <td>4.0</td>\n",
       "      <td>0.0</td>\n",
       "      <td>Within past year (anytime less than 12 months ...</td>\n",
       "      <td>Yes</td>\n",
       "      <td>9.0</td>\n",
       "      <td>None of them</td>\n",
       "      <td>No</td>\n",
       "      <td>...</td>\n",
       "      <td>71.67</td>\n",
       "      <td>27.99</td>\n",
       "      <td>No</td>\n",
       "      <td>No</td>\n",
       "      <td>Yes</td>\n",
       "      <td>Yes</td>\n",
       "      <td>Yes, received Tdap</td>\n",
       "      <td>No</td>\n",
       "      <td>No</td>\n",
       "      <td>0</td>\n",
       "    </tr>\n",
       "    <tr>\n",
       "      <th>1</th>\n",
       "      <td>Alabama</td>\n",
       "      <td>Male</td>\n",
       "      <td>Very good</td>\n",
       "      <td>0.0</td>\n",
       "      <td>0.0</td>\n",
       "      <td>Within past year (anytime less than 12 months ...</td>\n",
       "      <td>Yes</td>\n",
       "      <td>6.0</td>\n",
       "      <td>None of them</td>\n",
       "      <td>No</td>\n",
       "      <td>...</td>\n",
       "      <td>95.25</td>\n",
       "      <td>30.13</td>\n",
       "      <td>No</td>\n",
       "      <td>No</td>\n",
       "      <td>Yes</td>\n",
       "      <td>Yes</td>\n",
       "      <td>Yes, received tetanus shot but not sure what type</td>\n",
       "      <td>No</td>\n",
       "      <td>No</td>\n",
       "      <td>0</td>\n",
       "    </tr>\n",
       "    <tr>\n",
       "      <th>2</th>\n",
       "      <td>Alabama</td>\n",
       "      <td>Male</td>\n",
       "      <td>Very good</td>\n",
       "      <td>0.0</td>\n",
       "      <td>0.0</td>\n",
       "      <td>Within past year (anytime less than 12 months ...</td>\n",
       "      <td>No</td>\n",
       "      <td>8.0</td>\n",
       "      <td>6 or more, but not all</td>\n",
       "      <td>No</td>\n",
       "      <td>...</td>\n",
       "      <td>108.86</td>\n",
       "      <td>31.66</td>\n",
       "      <td>Yes</td>\n",
       "      <td>No</td>\n",
       "      <td>No</td>\n",
       "      <td>Yes</td>\n",
       "      <td>No, did not receive any tetanus shot in the pa...</td>\n",
       "      <td>No</td>\n",
       "      <td>Yes</td>\n",
       "      <td>0</td>\n",
       "    </tr>\n",
       "    <tr>\n",
       "      <th>3</th>\n",
       "      <td>Alabama</td>\n",
       "      <td>Female</td>\n",
       "      <td>Fair</td>\n",
       "      <td>5.0</td>\n",
       "      <td>0.0</td>\n",
       "      <td>Within past year (anytime less than 12 months ...</td>\n",
       "      <td>Yes</td>\n",
       "      <td>9.0</td>\n",
       "      <td>None of them</td>\n",
       "      <td>No</td>\n",
       "      <td>...</td>\n",
       "      <td>90.72</td>\n",
       "      <td>31.32</td>\n",
       "      <td>No</td>\n",
       "      <td>No</td>\n",
       "      <td>Yes</td>\n",
       "      <td>Yes</td>\n",
       "      <td>No, did not receive any tetanus shot in the pa...</td>\n",
       "      <td>No</td>\n",
       "      <td>Yes</td>\n",
       "      <td>0</td>\n",
       "    </tr>\n",
       "    <tr>\n",
       "      <th>4</th>\n",
       "      <td>Alabama</td>\n",
       "      <td>Female</td>\n",
       "      <td>Good</td>\n",
       "      <td>3.0</td>\n",
       "      <td>15.0</td>\n",
       "      <td>Within past year (anytime less than 12 months ...</td>\n",
       "      <td>Yes</td>\n",
       "      <td>5.0</td>\n",
       "      <td>1 to 5</td>\n",
       "      <td>No</td>\n",
       "      <td>...</td>\n",
       "      <td>79.38</td>\n",
       "      <td>33.07</td>\n",
       "      <td>No</td>\n",
       "      <td>No</td>\n",
       "      <td>Yes</td>\n",
       "      <td>Yes</td>\n",
       "      <td>No, did not receive any tetanus shot in the pa...</td>\n",
       "      <td>No</td>\n",
       "      <td>No</td>\n",
       "      <td>0</td>\n",
       "    </tr>\n",
       "  </tbody>\n",
       "</table>\n",
       "<p>5 rows × 39 columns</p>\n",
       "</div>"
      ],
      "text/plain": [
       "     State     Sex GeneralHealth  PhysicalHealthDays  MentalHealthDays  \\\n",
       "0  Alabama  Female     Very good                 4.0               0.0   \n",
       "1  Alabama    Male     Very good                 0.0               0.0   \n",
       "2  Alabama    Male     Very good                 0.0               0.0   \n",
       "3  Alabama  Female          Fair                 5.0               0.0   \n",
       "4  Alabama  Female          Good                 3.0              15.0   \n",
       "\n",
       "                                     LastCheckupTime PhysicalActivities  \\\n",
       "0  Within past year (anytime less than 12 months ...                Yes   \n",
       "1  Within past year (anytime less than 12 months ...                Yes   \n",
       "2  Within past year (anytime less than 12 months ...                 No   \n",
       "3  Within past year (anytime less than 12 months ...                Yes   \n",
       "4  Within past year (anytime less than 12 months ...                Yes   \n",
       "\n",
       "   SleepHours            RemovedTeeth HadStroke  ... WeightInKilograms    BMI  \\\n",
       "0         9.0            None of them        No  ...             71.67  27.99   \n",
       "1         6.0            None of them        No  ...             95.25  30.13   \n",
       "2         8.0  6 or more, but not all        No  ...            108.86  31.66   \n",
       "3         9.0            None of them        No  ...             90.72  31.32   \n",
       "4         5.0                  1 to 5        No  ...             79.38  33.07   \n",
       "\n",
       "  AlcoholDrinkers HIVTesting FluVaxLast12 PneumoVaxEver  \\\n",
       "0              No         No          Yes           Yes   \n",
       "1              No         No          Yes           Yes   \n",
       "2             Yes         No           No           Yes   \n",
       "3              No         No          Yes           Yes   \n",
       "4              No         No          Yes           Yes   \n",
       "\n",
       "                                   TetanusLast10Tdap HighRiskLastYear  \\\n",
       "0                                 Yes, received Tdap               No   \n",
       "1  Yes, received tetanus shot but not sure what type               No   \n",
       "2  No, did not receive any tetanus shot in the pa...               No   \n",
       "3  No, did not receive any tetanus shot in the pa...               No   \n",
       "4  No, did not receive any tetanus shot in the pa...               No   \n",
       "\n",
       "  CovidPos HeartDisease  \n",
       "0       No            0  \n",
       "1       No            0  \n",
       "2      Yes            0  \n",
       "3      Yes            0  \n",
       "4       No            0  \n",
       "\n",
       "[5 rows x 39 columns]"
      ]
     },
     "execution_count": 19,
     "metadata": {},
     "output_type": "execute_result"
    }
   ],
   "source": [
    "rosDF = pd.concat([X_ros, y_ros], axis = 1)\n",
    "rosDF.head()"
   ]
  },
  {
   "cell_type": "code",
   "execution_count": 21,
   "metadata": {},
   "outputs": [
    {
     "name": "stdout",
     "output_type": "stream",
     "text": [
      "0\n",
      "202790\n"
     ]
    }
   ],
   "source": [
    "tmp_yes = tmp[tmp['HeartDisease'] == 1]\n",
    "ros_yes = rosDF[rosDF['HeartDisease'] == 1]\n",
    "print(tmp_yes.duplicated().sum())\n",
    "print(ros_yes.duplicated().sum())"
   ]
  },
  {
   "cell_type": "markdown",
   "metadata": {},
   "source": [
    "## SMOTE"
   ]
  },
  {
   "cell_type": "code",
   "execution_count": 13,
   "metadata": {},
   "outputs": [],
   "source": [
    "from imblearn.over_sampling import SMOTE"
   ]
  },
  {
   "cell_type": "code",
   "execution_count": 24,
   "metadata": {},
   "outputs": [],
   "source": [
    "temp = tmp.copy()"
   ]
  },
  {
   "cell_type": "code",
   "execution_count": 29,
   "metadata": {},
   "outputs": [
    {
     "data": {
      "text/html": [
       "<div>\n",
       "<style scoped>\n",
       "    .dataframe tbody tr th:only-of-type {\n",
       "        vertical-align: middle;\n",
       "    }\n",
       "\n",
       "    .dataframe tbody tr th {\n",
       "        vertical-align: top;\n",
       "    }\n",
       "\n",
       "    .dataframe thead th {\n",
       "        text-align: right;\n",
       "    }\n",
       "</style>\n",
       "<table border=\"1\" class=\"dataframe\">\n",
       "  <thead>\n",
       "    <tr style=\"text-align: right;\">\n",
       "      <th></th>\n",
       "      <th>State</th>\n",
       "      <th>Sex</th>\n",
       "      <th>GeneralHealth</th>\n",
       "      <th>PhysicalHealthDays</th>\n",
       "      <th>MentalHealthDays</th>\n",
       "      <th>LastCheckupTime</th>\n",
       "      <th>PhysicalActivities</th>\n",
       "      <th>SleepHours</th>\n",
       "      <th>RemovedTeeth</th>\n",
       "      <th>HadHeartAttack</th>\n",
       "      <th>...</th>\n",
       "      <th>WeightInKilograms</th>\n",
       "      <th>BMI</th>\n",
       "      <th>AlcoholDrinkers</th>\n",
       "      <th>HIVTesting</th>\n",
       "      <th>FluVaxLast12</th>\n",
       "      <th>PneumoVaxEver</th>\n",
       "      <th>TetanusLast10Tdap</th>\n",
       "      <th>HighRiskLastYear</th>\n",
       "      <th>CovidPos</th>\n",
       "      <th>HeartDisease</th>\n",
       "    </tr>\n",
       "  </thead>\n",
       "  <tbody>\n",
       "    <tr>\n",
       "      <th>342</th>\n",
       "      <td>Alabama</td>\n",
       "      <td>Female</td>\n",
       "      <td>3.0</td>\n",
       "      <td>4.0</td>\n",
       "      <td>0.0</td>\n",
       "      <td>0.0</td>\n",
       "      <td>Yes</td>\n",
       "      <td>9.0</td>\n",
       "      <td>0.0</td>\n",
       "      <td>No</td>\n",
       "      <td>...</td>\n",
       "      <td>71.67</td>\n",
       "      <td>27.99</td>\n",
       "      <td>No</td>\n",
       "      <td>No</td>\n",
       "      <td>Yes</td>\n",
       "      <td>Yes</td>\n",
       "      <td>Yes, received Tdap</td>\n",
       "      <td>No</td>\n",
       "      <td>No</td>\n",
       "      <td>0</td>\n",
       "    </tr>\n",
       "    <tr>\n",
       "      <th>343</th>\n",
       "      <td>Alabama</td>\n",
       "      <td>Male</td>\n",
       "      <td>3.0</td>\n",
       "      <td>0.0</td>\n",
       "      <td>0.0</td>\n",
       "      <td>0.0</td>\n",
       "      <td>Yes</td>\n",
       "      <td>6.0</td>\n",
       "      <td>0.0</td>\n",
       "      <td>No</td>\n",
       "      <td>...</td>\n",
       "      <td>95.25</td>\n",
       "      <td>30.13</td>\n",
       "      <td>No</td>\n",
       "      <td>No</td>\n",
       "      <td>Yes</td>\n",
       "      <td>Yes</td>\n",
       "      <td>Yes, received tetanus shot but not sure what type</td>\n",
       "      <td>No</td>\n",
       "      <td>No</td>\n",
       "      <td>0</td>\n",
       "    </tr>\n",
       "    <tr>\n",
       "      <th>345</th>\n",
       "      <td>Alabama</td>\n",
       "      <td>Male</td>\n",
       "      <td>3.0</td>\n",
       "      <td>0.0</td>\n",
       "      <td>0.0</td>\n",
       "      <td>0.0</td>\n",
       "      <td>No</td>\n",
       "      <td>8.0</td>\n",
       "      <td>2.0</td>\n",
       "      <td>No</td>\n",
       "      <td>...</td>\n",
       "      <td>108.86</td>\n",
       "      <td>31.66</td>\n",
       "      <td>Yes</td>\n",
       "      <td>No</td>\n",
       "      <td>No</td>\n",
       "      <td>Yes</td>\n",
       "      <td>No, did not receive any tetanus shot in the pa...</td>\n",
       "      <td>No</td>\n",
       "      <td>Yes</td>\n",
       "      <td>0</td>\n",
       "    </tr>\n",
       "    <tr>\n",
       "      <th>346</th>\n",
       "      <td>Alabama</td>\n",
       "      <td>Female</td>\n",
       "      <td>1.0</td>\n",
       "      <td>5.0</td>\n",
       "      <td>0.0</td>\n",
       "      <td>0.0</td>\n",
       "      <td>Yes</td>\n",
       "      <td>9.0</td>\n",
       "      <td>0.0</td>\n",
       "      <td>No</td>\n",
       "      <td>...</td>\n",
       "      <td>90.72</td>\n",
       "      <td>31.32</td>\n",
       "      <td>No</td>\n",
       "      <td>No</td>\n",
       "      <td>Yes</td>\n",
       "      <td>Yes</td>\n",
       "      <td>No, did not receive any tetanus shot in the pa...</td>\n",
       "      <td>No</td>\n",
       "      <td>Yes</td>\n",
       "      <td>0</td>\n",
       "    </tr>\n",
       "    <tr>\n",
       "      <th>347</th>\n",
       "      <td>Alabama</td>\n",
       "      <td>Female</td>\n",
       "      <td>2.0</td>\n",
       "      <td>3.0</td>\n",
       "      <td>15.0</td>\n",
       "      <td>0.0</td>\n",
       "      <td>Yes</td>\n",
       "      <td>5.0</td>\n",
       "      <td>1.0</td>\n",
       "      <td>No</td>\n",
       "      <td>...</td>\n",
       "      <td>79.38</td>\n",
       "      <td>33.07</td>\n",
       "      <td>No</td>\n",
       "      <td>No</td>\n",
       "      <td>Yes</td>\n",
       "      <td>Yes</td>\n",
       "      <td>No, did not receive any tetanus shot in the pa...</td>\n",
       "      <td>No</td>\n",
       "      <td>No</td>\n",
       "      <td>0</td>\n",
       "    </tr>\n",
       "  </tbody>\n",
       "</table>\n",
       "<p>5 rows × 41 columns</p>\n",
       "</div>"
      ],
      "text/plain": [
       "       State     Sex  GeneralHealth  PhysicalHealthDays  MentalHealthDays  \\\n",
       "342  Alabama  Female            3.0                 4.0               0.0   \n",
       "343  Alabama    Male            3.0                 0.0               0.0   \n",
       "345  Alabama    Male            3.0                 0.0               0.0   \n",
       "346  Alabama  Female            1.0                 5.0               0.0   \n",
       "347  Alabama  Female            2.0                 3.0              15.0   \n",
       "\n",
       "     LastCheckupTime PhysicalActivities  SleepHours  RemovedTeeth  \\\n",
       "342              0.0                Yes         9.0           0.0   \n",
       "343              0.0                Yes         6.0           0.0   \n",
       "345              0.0                 No         8.0           2.0   \n",
       "346              0.0                Yes         9.0           0.0   \n",
       "347              0.0                Yes         5.0           1.0   \n",
       "\n",
       "    HadHeartAttack  ... WeightInKilograms    BMI AlcoholDrinkers HIVTesting  \\\n",
       "342             No  ...             71.67  27.99              No         No   \n",
       "343             No  ...             95.25  30.13              No         No   \n",
       "345             No  ...            108.86  31.66             Yes         No   \n",
       "346             No  ...             90.72  31.32              No         No   \n",
       "347             No  ...             79.38  33.07              No         No   \n",
       "\n",
       "    FluVaxLast12 PneumoVaxEver  \\\n",
       "342          Yes           Yes   \n",
       "343          Yes           Yes   \n",
       "345           No           Yes   \n",
       "346          Yes           Yes   \n",
       "347          Yes           Yes   \n",
       "\n",
       "                                     TetanusLast10Tdap HighRiskLastYear  \\\n",
       "342                                 Yes, received Tdap               No   \n",
       "343  Yes, received tetanus shot but not sure what type               No   \n",
       "345  No, did not receive any tetanus shot in the pa...               No   \n",
       "346  No, did not receive any tetanus shot in the pa...               No   \n",
       "347  No, did not receive any tetanus shot in the pa...               No   \n",
       "\n",
       "    CovidPos HeartDisease  \n",
       "342       No            0  \n",
       "343       No            0  \n",
       "345      Yes            0  \n",
       "346      Yes            0  \n",
       "347       No            0  \n",
       "\n",
       "[5 rows x 41 columns]"
      ]
     },
     "execution_count": 29,
     "metadata": {},
     "output_type": "execute_result"
    }
   ],
   "source": [
    "temp.head()"
   ]
  },
  {
   "cell_type": "code",
   "execution_count": 30,
   "metadata": {},
   "outputs": [],
   "source": [
    "temp = temp.drop(['State'], axis = 1)\n",
    "temp.loc[temp['Sex'] == 'Female', 'Sex'] = 0\n",
    "temp.loc[temp['Sex'] == 'Male', 'Sex'] = 1\n",
    "\n",
    "#General Health encoding\n",
    "temp.loc[temp[\"GeneralHealth\"] == \"Poor\",\"GeneralHealth\"] = 0\n",
    "temp.loc[temp[\"GeneralHealth\"] == \"Fair\",\"GeneralHealth\"] = 1\n",
    "temp.loc[temp[\"GeneralHealth\"] == \"Good\",\"GeneralHealth\"] = 2\n",
    "temp.loc[temp[\"GeneralHealth\"] == \"Very good\",\"GeneralHealth\"] = 3\n",
    "temp.loc[temp[\"GeneralHealth\"] == \"Excellent\",\"GeneralHealth\"] = 4\n",
    "temp[\"GeneralHealth\"] = temp[\"GeneralHealth\"].astype('float')\n",
    "\n",
    "#Last check up time encoding\n",
    "temp.loc[temp[\"LastCheckupTime\"] == \"Within past year (anytime less than 12 months ago)\",\"LastCheckupTime\"] = 0\n",
    "temp.loc[temp[\"LastCheckupTime\"] == \"Within past 2 years (1 year but less than 2 years ago)\",\"LastCheckupTime\"] = 1\n",
    "temp.loc[temp[\"LastCheckupTime\"] == \"Within past 5 years (2 years but less than 5 years ago)\",\"LastCheckupTime\"] = 2\n",
    "temp.loc[temp[\"LastCheckupTime\"] == \"5 or more years ago\",\"LastCheckupTime\"] = 3\n",
    "temp[\"LastCheckupTime\"] = temp[\"LastCheckupTime\"].astype('float')\n",
    "\n",
    "#SmokerStatus\n",
    "temp.loc[temp[\"SmokerStatus\"] == \"Never smoked\",\"SmokerStatus\"] = 0\n",
    "temp.loc[temp[\"SmokerStatus\"] == \"Former smoker\",\"SmokerStatus\"] = 1\n",
    "temp.loc[temp[\"SmokerStatus\"] == \"Current smoker - now smokes some days\",\"SmokerStatus\"] = 2\n",
    "temp.loc[temp[\"SmokerStatus\"] == \"Current smoker - now smokes every day\",\"SmokerStatus\"] = 3\n",
    "temp[\"SmokerStatus\"] = temp[\"SmokerStatus\"].astype('float')\n",
    "\n",
    "\n",
    "#ECigaretteUsage\n",
    "temp.loc[temp[\"ECigaretteUsage\"] == \"Never used e-cigarettes in my entire life\",\"ECigaretteUsage\"] = 0\n",
    "temp.loc[temp[\"ECigaretteUsage\"] == \"Not at all (right now)\",\"ECigaretteUsage\"] = 1\n",
    "temp.loc[temp[\"ECigaretteUsage\"] == \"Use them some days\",\"ECigaretteUsage\"] = 2\n",
    "temp.loc[temp[\"ECigaretteUsage\"] == \"Use them every day\",\"ECigaretteUsage\"] = 3\n",
    "temp[\"ECigaretteUsage\"] = temp[\"ECigaretteUsage\"].astype('float')\n",
    "\n",
    "\n",
    "#RemovedTeeth\n",
    "temp.loc[temp[\"RemovedTeeth\"] == \"None of them\",\"RemovedTeeth\"] = 0\n",
    "temp.loc[temp[\"RemovedTeeth\"] == \"1 to 5\",\"RemovedTeeth\"] = 1\n",
    "temp.loc[temp[\"RemovedTeeth\"] == \"6 or more, but not all\",\"RemovedTeeth\"] = 2\n",
    "temp.loc[temp[\"RemovedTeeth\"] == \"All\",\"RemovedTeeth\"] = 3\n",
    "temp[\"RemovedTeeth\"] = temp[\"RemovedTeeth\"].astype('float')"
   ]
  },
  {
   "cell_type": "code",
   "execution_count": 38,
   "metadata": {},
   "outputs": [],
   "source": [
    "temp = pd.get_dummies(temp, columns = ['RaceEthnicityCategory', 'TetanusLast10Tdap'])"
   ]
  },
  {
   "cell_type": "code",
   "execution_count": 39,
   "metadata": {},
   "outputs": [],
   "source": [
    "from sklearn.preprocessing import LabelEncoder\n",
    "le = LabelEncoder()\n",
    "\n",
    "for columns in temp.select_dtypes(include=[object, bool]).columns:\n",
    "    temp[columns] = le.fit_transform(temp[columns])"
   ]
  },
  {
   "cell_type": "code",
   "execution_count": 40,
   "metadata": {},
   "outputs": [
    {
     "name": "stdout",
     "output_type": "stream",
     "text": [
      "<class 'pandas.core.frame.DataFrame'>\n",
      "Index: 246022 entries, 342 to 445130\n",
      "Data columns (total 47 columns):\n",
      " #   Column                                                                       Non-Null Count   Dtype  \n",
      "---  ------                                                                       --------------   -----  \n",
      " 0   Sex                                                                          246022 non-null  int32  \n",
      " 1   GeneralHealth                                                                246022 non-null  float64\n",
      " 2   PhysicalHealthDays                                                           246022 non-null  float64\n",
      " 3   MentalHealthDays                                                             246022 non-null  float64\n",
      " 4   LastCheckupTime                                                              246022 non-null  float64\n",
      " 5   PhysicalActivities                                                           246022 non-null  int32  \n",
      " 6   SleepHours                                                                   246022 non-null  float64\n",
      " 7   RemovedTeeth                                                                 246022 non-null  float64\n",
      " 8   HadHeartAttack                                                               246022 non-null  int32  \n",
      " 9   HadAngina                                                                    246022 non-null  int32  \n",
      " 10  HadStroke                                                                    246022 non-null  int32  \n",
      " 11  HadAsthma                                                                    246022 non-null  int32  \n",
      " 12  HadSkinCancer                                                                246022 non-null  int32  \n",
      " 13  HadCOPD                                                                      246022 non-null  int32  \n",
      " 14  HadDepressiveDisorder                                                        246022 non-null  int32  \n",
      " 15  HadKidneyDisease                                                             246022 non-null  int32  \n",
      " 16  HadArthritis                                                                 246022 non-null  int32  \n",
      " 17  HadDiabetes                                                                  246022 non-null  int32  \n",
      " 18  DeafOrHardOfHearing                                                          246022 non-null  int32  \n",
      " 19  BlindOrVisionDifficulty                                                      246022 non-null  int32  \n",
      " 20  DifficultyConcentrating                                                      246022 non-null  int32  \n",
      " 21  DifficultyWalking                                                            246022 non-null  int32  \n",
      " 22  DifficultyDressingBathing                                                    246022 non-null  int32  \n",
      " 23  DifficultyErrands                                                            246022 non-null  int32  \n",
      " 24  SmokerStatus                                                                 246022 non-null  float64\n",
      " 25  ECigaretteUsage                                                              246022 non-null  float64\n",
      " 26  ChestScan                                                                    246022 non-null  int32  \n",
      " 27  AgeCategory                                                                  246022 non-null  int32  \n",
      " 28  HeightInMeters                                                               246022 non-null  float64\n",
      " 29  WeightInKilograms                                                            246022 non-null  float64\n",
      " 30  BMI                                                                          246022 non-null  float64\n",
      " 31  AlcoholDrinkers                                                              246022 non-null  int32  \n",
      " 32  HIVTesting                                                                   246022 non-null  int32  \n",
      " 33  FluVaxLast12                                                                 246022 non-null  int32  \n",
      " 34  PneumoVaxEver                                                                246022 non-null  int32  \n",
      " 35  HighRiskLastYear                                                             246022 non-null  int32  \n",
      " 36  CovidPos                                                                     246022 non-null  int32  \n",
      " 37  HeartDisease                                                                 246022 non-null  int64  \n",
      " 38  RaceEthnicityCategory_Black only, Non-Hispanic                               246022 non-null  int64  \n",
      " 39  RaceEthnicityCategory_Hispanic                                               246022 non-null  int64  \n",
      " 40  RaceEthnicityCategory_Multiracial, Non-Hispanic                              246022 non-null  int64  \n",
      " 41  RaceEthnicityCategory_Other race only, Non-Hispanic                          246022 non-null  int64  \n",
      " 42  RaceEthnicityCategory_White only, Non-Hispanic                               246022 non-null  int64  \n",
      " 43  TetanusLast10Tdap_No, did not receive any tetanus shot in the past 10 years  246022 non-null  int64  \n",
      " 44  TetanusLast10Tdap_Yes, received Tdap                                         246022 non-null  int64  \n",
      " 45  TetanusLast10Tdap_Yes, received tetanus shot but not sure what type          246022 non-null  int64  \n",
      " 46  TetanusLast10Tdap_Yes, received tetanus shot, but not Tdap                   246022 non-null  int64  \n",
      "dtypes: float64(11), int32(26), int64(10)\n",
      "memory usage: 65.7 MB\n"
     ]
    }
   ],
   "source": [
    "temp.info()"
   ]
  },
  {
   "cell_type": "code",
   "execution_count": 41,
   "metadata": {},
   "outputs": [],
   "source": [
    "X = temp.drop(['HadHeartAttack', 'HadAngina', 'HeartDisease'], axis = 1)\n",
    "y = temp['HeartDisease']"
   ]
  },
  {
   "cell_type": "code",
   "execution_count": 43,
   "metadata": {},
   "outputs": [
    {
     "name": "stdout",
     "output_type": "stream",
     "text": [
      "Original Dataset shape Counter({0: 224406, 1: 21616})\n",
      "Resampled Dataset shape Counter({0: 224406, 1: 224406})\n"
     ]
    }
   ],
   "source": [
    "print('Original Dataset shape %s' % Counter(y))\n",
    "smo = SMOTE(random_state = 1234)\n",
    "X_smo, y_smo = smo.fit_resample(X, y)\n",
    "print('Resampled Dataset shape %s' % Counter(y_smo))"
   ]
  },
  {
   "cell_type": "code",
   "execution_count": 44,
   "metadata": {},
   "outputs": [
    {
     "data": {
      "text/html": [
       "<div>\n",
       "<style scoped>\n",
       "    .dataframe tbody tr th:only-of-type {\n",
       "        vertical-align: middle;\n",
       "    }\n",
       "\n",
       "    .dataframe tbody tr th {\n",
       "        vertical-align: top;\n",
       "    }\n",
       "\n",
       "    .dataframe thead th {\n",
       "        text-align: right;\n",
       "    }\n",
       "</style>\n",
       "<table border=\"1\" class=\"dataframe\">\n",
       "  <thead>\n",
       "    <tr style=\"text-align: right;\">\n",
       "      <th></th>\n",
       "      <th>Sex</th>\n",
       "      <th>GeneralHealth</th>\n",
       "      <th>PhysicalHealthDays</th>\n",
       "      <th>MentalHealthDays</th>\n",
       "      <th>LastCheckupTime</th>\n",
       "      <th>PhysicalActivities</th>\n",
       "      <th>SleepHours</th>\n",
       "      <th>RemovedTeeth</th>\n",
       "      <th>HadStroke</th>\n",
       "      <th>HadAsthma</th>\n",
       "      <th>...</th>\n",
       "      <th>RaceEthnicityCategory_Black only, Non-Hispanic</th>\n",
       "      <th>RaceEthnicityCategory_Hispanic</th>\n",
       "      <th>RaceEthnicityCategory_Multiracial, Non-Hispanic</th>\n",
       "      <th>RaceEthnicityCategory_Other race only, Non-Hispanic</th>\n",
       "      <th>RaceEthnicityCategory_White only, Non-Hispanic</th>\n",
       "      <th>TetanusLast10Tdap_No, did not receive any tetanus shot in the past 10 years</th>\n",
       "      <th>TetanusLast10Tdap_Yes, received Tdap</th>\n",
       "      <th>TetanusLast10Tdap_Yes, received tetanus shot but not sure what type</th>\n",
       "      <th>TetanusLast10Tdap_Yes, received tetanus shot, but not Tdap</th>\n",
       "      <th>HeartDisease</th>\n",
       "    </tr>\n",
       "  </thead>\n",
       "  <tbody>\n",
       "    <tr>\n",
       "      <th>0</th>\n",
       "      <td>0</td>\n",
       "      <td>3.0</td>\n",
       "      <td>4.0</td>\n",
       "      <td>0.0</td>\n",
       "      <td>0.0</td>\n",
       "      <td>1</td>\n",
       "      <td>9.0</td>\n",
       "      <td>0.0</td>\n",
       "      <td>0</td>\n",
       "      <td>0</td>\n",
       "      <td>...</td>\n",
       "      <td>0</td>\n",
       "      <td>0</td>\n",
       "      <td>0</td>\n",
       "      <td>0</td>\n",
       "      <td>1</td>\n",
       "      <td>0</td>\n",
       "      <td>1</td>\n",
       "      <td>0</td>\n",
       "      <td>0</td>\n",
       "      <td>0</td>\n",
       "    </tr>\n",
       "    <tr>\n",
       "      <th>1</th>\n",
       "      <td>1</td>\n",
       "      <td>3.0</td>\n",
       "      <td>0.0</td>\n",
       "      <td>0.0</td>\n",
       "      <td>0.0</td>\n",
       "      <td>1</td>\n",
       "      <td>6.0</td>\n",
       "      <td>0.0</td>\n",
       "      <td>0</td>\n",
       "      <td>0</td>\n",
       "      <td>...</td>\n",
       "      <td>0</td>\n",
       "      <td>0</td>\n",
       "      <td>0</td>\n",
       "      <td>0</td>\n",
       "      <td>1</td>\n",
       "      <td>0</td>\n",
       "      <td>0</td>\n",
       "      <td>1</td>\n",
       "      <td>0</td>\n",
       "      <td>0</td>\n",
       "    </tr>\n",
       "    <tr>\n",
       "      <th>2</th>\n",
       "      <td>1</td>\n",
       "      <td>3.0</td>\n",
       "      <td>0.0</td>\n",
       "      <td>0.0</td>\n",
       "      <td>0.0</td>\n",
       "      <td>0</td>\n",
       "      <td>8.0</td>\n",
       "      <td>2.0</td>\n",
       "      <td>0</td>\n",
       "      <td>0</td>\n",
       "      <td>...</td>\n",
       "      <td>0</td>\n",
       "      <td>0</td>\n",
       "      <td>0</td>\n",
       "      <td>0</td>\n",
       "      <td>1</td>\n",
       "      <td>1</td>\n",
       "      <td>0</td>\n",
       "      <td>0</td>\n",
       "      <td>0</td>\n",
       "      <td>0</td>\n",
       "    </tr>\n",
       "    <tr>\n",
       "      <th>3</th>\n",
       "      <td>0</td>\n",
       "      <td>1.0</td>\n",
       "      <td>5.0</td>\n",
       "      <td>0.0</td>\n",
       "      <td>0.0</td>\n",
       "      <td>1</td>\n",
       "      <td>9.0</td>\n",
       "      <td>0.0</td>\n",
       "      <td>0</td>\n",
       "      <td>0</td>\n",
       "      <td>...</td>\n",
       "      <td>0</td>\n",
       "      <td>0</td>\n",
       "      <td>0</td>\n",
       "      <td>0</td>\n",
       "      <td>1</td>\n",
       "      <td>1</td>\n",
       "      <td>0</td>\n",
       "      <td>0</td>\n",
       "      <td>0</td>\n",
       "      <td>0</td>\n",
       "    </tr>\n",
       "    <tr>\n",
       "      <th>4</th>\n",
       "      <td>0</td>\n",
       "      <td>2.0</td>\n",
       "      <td>3.0</td>\n",
       "      <td>15.0</td>\n",
       "      <td>0.0</td>\n",
       "      <td>1</td>\n",
       "      <td>5.0</td>\n",
       "      <td>1.0</td>\n",
       "      <td>0</td>\n",
       "      <td>0</td>\n",
       "      <td>...</td>\n",
       "      <td>0</td>\n",
       "      <td>0</td>\n",
       "      <td>0</td>\n",
       "      <td>0</td>\n",
       "      <td>1</td>\n",
       "      <td>1</td>\n",
       "      <td>0</td>\n",
       "      <td>0</td>\n",
       "      <td>0</td>\n",
       "      <td>0</td>\n",
       "    </tr>\n",
       "  </tbody>\n",
       "</table>\n",
       "<p>5 rows × 45 columns</p>\n",
       "</div>"
      ],
      "text/plain": [
       "   Sex  GeneralHealth  PhysicalHealthDays  MentalHealthDays  LastCheckupTime  \\\n",
       "0    0            3.0                 4.0               0.0              0.0   \n",
       "1    1            3.0                 0.0               0.0              0.0   \n",
       "2    1            3.0                 0.0               0.0              0.0   \n",
       "3    0            1.0                 5.0               0.0              0.0   \n",
       "4    0            2.0                 3.0              15.0              0.0   \n",
       "\n",
       "   PhysicalActivities  SleepHours  RemovedTeeth  HadStroke  HadAsthma  ...  \\\n",
       "0                   1         9.0           0.0          0          0  ...   \n",
       "1                   1         6.0           0.0          0          0  ...   \n",
       "2                   0         8.0           2.0          0          0  ...   \n",
       "3                   1         9.0           0.0          0          0  ...   \n",
       "4                   1         5.0           1.0          0          0  ...   \n",
       "\n",
       "   RaceEthnicityCategory_Black only, Non-Hispanic  \\\n",
       "0                                               0   \n",
       "1                                               0   \n",
       "2                                               0   \n",
       "3                                               0   \n",
       "4                                               0   \n",
       "\n",
       "   RaceEthnicityCategory_Hispanic  \\\n",
       "0                               0   \n",
       "1                               0   \n",
       "2                               0   \n",
       "3                               0   \n",
       "4                               0   \n",
       "\n",
       "   RaceEthnicityCategory_Multiracial, Non-Hispanic  \\\n",
       "0                                                0   \n",
       "1                                                0   \n",
       "2                                                0   \n",
       "3                                                0   \n",
       "4                                                0   \n",
       "\n",
       "   RaceEthnicityCategory_Other race only, Non-Hispanic  \\\n",
       "0                                                  0     \n",
       "1                                                  0     \n",
       "2                                                  0     \n",
       "3                                                  0     \n",
       "4                                                  0     \n",
       "\n",
       "   RaceEthnicityCategory_White only, Non-Hispanic  \\\n",
       "0                                               1   \n",
       "1                                               1   \n",
       "2                                               1   \n",
       "3                                               1   \n",
       "4                                               1   \n",
       "\n",
       "   TetanusLast10Tdap_No, did not receive any tetanus shot in the past 10 years  \\\n",
       "0                                                  0                             \n",
       "1                                                  0                             \n",
       "2                                                  1                             \n",
       "3                                                  1                             \n",
       "4                                                  1                             \n",
       "\n",
       "   TetanusLast10Tdap_Yes, received Tdap  \\\n",
       "0                                     1   \n",
       "1                                     0   \n",
       "2                                     0   \n",
       "3                                     0   \n",
       "4                                     0   \n",
       "\n",
       "   TetanusLast10Tdap_Yes, received tetanus shot but not sure what type  \\\n",
       "0                                                  0                     \n",
       "1                                                  1                     \n",
       "2                                                  0                     \n",
       "3                                                  0                     \n",
       "4                                                  0                     \n",
       "\n",
       "   TetanusLast10Tdap_Yes, received tetanus shot, but not Tdap  HeartDisease  \n",
       "0                                                  0                      0  \n",
       "1                                                  0                      0  \n",
       "2                                                  0                      0  \n",
       "3                                                  0                      0  \n",
       "4                                                  0                      0  \n",
       "\n",
       "[5 rows x 45 columns]"
      ]
     },
     "execution_count": 44,
     "metadata": {},
     "output_type": "execute_result"
    }
   ],
   "source": [
    "smoDF = pd.concat([X_smo, y_smo], axis = 1)\n",
    "smoDF.head()"
   ]
  },
  {
   "cell_type": "code",
   "execution_count": 45,
   "metadata": {},
   "outputs": [
    {
     "name": "stdout",
     "output_type": "stream",
     "text": [
      "0\n",
      "309\n"
     ]
    }
   ],
   "source": [
    "smo_yes = smoDF[smoDF['HeartDisease'] == 1]\n",
    "print(tmp_yes.duplicated().sum())\n",
    "print(smo_yes.duplicated().sum())"
   ]
  },
  {
   "cell_type": "markdown",
   "metadata": {},
   "source": [
    "https://imbalanced-learn.org/stable/references/generated/imblearn.over_sampling.SMOTE.html"
   ]
  },
  {
   "cell_type": "code",
   "execution_count": 47,
   "metadata": {},
   "outputs": [
    {
     "name": "stdout",
     "output_type": "stream",
     "text": [
      "Original Dataset shape Counter({0: 224406, 1: 21616})\n",
      "Resampled Dataset shape Counter({0: 224406, 1: 179524})\n"
     ]
    }
   ],
   "source": [
    "print('Original Dataset shape %s' % Counter(y))\n",
    "smo = SMOTE(sampling_strategy = 0.8, random_state = 1234)\n",
    "X_smo, y_smo = smo.fit_resample(X, y)\n",
    "print('Resampled Dataset shape %s' % Counter(y_smo))"
   ]
  },
  {
   "cell_type": "code",
   "execution_count": 48,
   "metadata": {},
   "outputs": [
    {
     "name": "stdout",
     "output_type": "stream",
     "text": [
      "0\n",
      "214\n"
     ]
    }
   ],
   "source": [
    "smoDF = pd.concat([X_smo, y_smo], axis = 1)\n",
    "smo_yes = smoDF[smoDF['HeartDisease'] == 1]\n",
    "print(tmp_yes.duplicated().sum())\n",
    "print(smo_yes.duplicated().sum())"
   ]
  },
  {
   "cell_type": "markdown",
   "metadata": {},
   "source": [
    "## SVM-SMOTE"
   ]
  },
  {
   "cell_type": "code",
   "execution_count": 49,
   "metadata": {},
   "outputs": [
    {
     "name": "stdout",
     "output_type": "stream",
     "text": [
      "Original Dataset shape Counter({0: 224406, 1: 21616})\n",
      "Resampled Dataset shape Counter({0: 224406, 1: 224406})\n"
     ]
    }
   ],
   "source": [
    "#18min\n",
    "from imblearn.over_sampling import SVMSMOTE\n",
    "print('Original Dataset shape %s' % Counter(y))\n",
    "svms = SVMSMOTE(random_state = 1234)\n",
    "X_svms, y_svms = svms.fit_resample(X, y)\n",
    "print('Resampled Dataset shape %s' % Counter(y_svms))"
   ]
  },
  {
   "cell_type": "code",
   "execution_count": 50,
   "metadata": {},
   "outputs": [
    {
     "name": "stdout",
     "output_type": "stream",
     "text": [
      "385\n"
     ]
    }
   ],
   "source": [
    "svmsDF = pd.concat([X_svms, y_svms], axis = 1)\n",
    "svms_yes = svmsDF[svmsDF['HeartDisease'] == 1]\n",
    "print(svms_yes.duplicated().sum())"
   ]
  },
  {
   "cell_type": "markdown",
   "metadata": {},
   "source": [
    "## SMOTEENN"
   ]
  },
  {
   "cell_type": "code",
   "execution_count": 51,
   "metadata": {},
   "outputs": [
    {
     "name": "stdout",
     "output_type": "stream",
     "text": [
      "Original Dataset shape Counter({0: 224406, 1: 21616})\n",
      "Resampled Dataset shape Counter({1: 224082, 0: 144675})\n"
     ]
    }
   ],
   "source": [
    "#6min\n",
    "from imblearn.combine import SMOTEENN\n",
    "print('Original Dataset shape %s' % Counter(y))\n",
    "sme = SMOTEENN(random_state = 1234)\n",
    "X_sme, y_sme = sme.fit_resample(X, y)\n",
    "print('Resampled Dataset shape %s' % Counter(y_sme))"
   ]
  },
  {
   "cell_type": "code",
   "execution_count": 52,
   "metadata": {},
   "outputs": [
    {
     "name": "stdout",
     "output_type": "stream",
     "text": [
      "309\n"
     ]
    }
   ],
   "source": [
    "smeDF = pd.concat([X_sme, y_sme], axis = 1)\n",
    "sme_yes = smeDF[smeDF['HeartDisease'] == 1]\n",
    "print(sme_yes.duplicated().sum())"
   ]
  },
  {
   "cell_type": "markdown",
   "metadata": {},
   "source": [
    "## SMOTETomek"
   ]
  },
  {
   "cell_type": "code",
   "execution_count": 53,
   "metadata": {},
   "outputs": [
    {
     "name": "stdout",
     "output_type": "stream",
     "text": [
      "Original Dataset shape Counter({0: 224406, 1: 21616})\n",
      "Resampled Dataset shape Counter({0: 224387, 1: 224387})\n"
     ]
    }
   ],
   "source": [
    "#6min\n",
    "from imblearn.combine import SMOTETomek\n",
    "print('Original Dataset shape %s' % Counter(y))\n",
    "smt = SMOTETomek(random_state = 1234)\n",
    "X_smt, y_smt = smt.fit_resample(X, y)\n",
    "print('Resampled Dataset shape %s' % Counter(y_smt))"
   ]
  },
  {
   "cell_type": "code",
   "execution_count": 54,
   "metadata": {},
   "outputs": [
    {
     "name": "stdout",
     "output_type": "stream",
     "text": [
      "309\n"
     ]
    }
   ],
   "source": [
    "smtDF = pd.concat([X_smt, y_smt], axis = 1)\n",
    "smt_yes = smtDF[smtDF['HeartDisease'] == 1]\n",
    "print(smt_yes.duplicated().sum())"
   ]
  },
  {
   "cell_type": "markdown",
   "metadata": {},
   "source": [
    "## Upsampled"
   ]
  },
  {
   "cell_type": "code",
   "execution_count": 55,
   "metadata": {},
   "outputs": [
    {
     "name": "stdout",
     "output_type": "stream",
     "text": [
      "202790\n"
     ]
    }
   ],
   "source": [
    "from sklearn.utils import resample\n",
    "majorityDF = temp[temp['HeartDisease'] == 0]\n",
    "minorityDF = temp[temp['HeartDisease'] == 1]\n",
    "minority_upsampled = resample(minorityDF, replace = True, n_samples = 224406)\n",
    "print(minority_upsampled.duplicated().sum())"
   ]
  },
  {
   "cell_type": "markdown",
   "metadata": {},
   "source": [
    "## Weights"
   ]
  },
  {
   "cell_type": "code",
   "execution_count": 56,
   "metadata": {},
   "outputs": [
    {
     "name": "stdout",
     "output_type": "stream",
     "text": [
      "Weight for class 0: 0.55\n",
      "Weight for class 1: 5.69\n"
     ]
    }
   ],
   "source": [
    "neg = len(temp[temp['HeartDisease'] == 0])\n",
    "pos = len(temp[temp['HeartDisease'] == 1])\n",
    "weight_for_0 = (1 / neg) * (len(temp)) / 2.0\n",
    "weight_for_1 = (1 / pos) * (len(temp)) / 2.0\n",
    "class_weight = {0: weight_for_0, 1: weight_for_1}\n",
    "print('Weight for class 0: {:.2f}'.format(weight_for_0))\n",
    "print('Weight for class 1: {:.2f}'.format(weight_for_1))"
   ]
  },
  {
   "cell_type": "code",
   "execution_count": null,
   "metadata": {},
   "outputs": [],
   "source": []
  }
 ],
 "metadata": {
  "kernelspec": {
   "display_name": "wassup",
   "language": "python",
   "name": "python3"
  },
  "language_info": {
   "codemirror_mode": {
    "name": "ipython",
    "version": 3
   },
   "file_extension": ".py",
   "mimetype": "text/x-python",
   "name": "python",
   "nbconvert_exporter": "python",
   "pygments_lexer": "ipython3",
   "version": "3.11.7"
  }
 },
 "nbformat": 4,
 "nbformat_minor": 2
}
