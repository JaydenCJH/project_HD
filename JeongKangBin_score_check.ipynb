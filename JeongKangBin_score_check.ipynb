{
 "cells": [
  {
   "cell_type": "code",
   "execution_count": 3,
   "metadata": {},
   "outputs": [],
   "source": [
    "from sklearn.tree import DecisionTreeClassifier\n",
    "from catboost import CatBoostClassifier,Pool\n",
    "import numpy as np\n",
    "import matplotlib.pyplot as plt\n",
    "import seaborn as sns\n",
    "import pandas as pd\n",
    "from sklearn.model_selection import train_test_split,GridSearchCV\n",
    "from sklearn.preprocessing import LabelEncoder\n",
    "import warnings\n",
    "from sklearn.preprocessing import StandardScaler,RobustScaler,Normalizer\n",
    "import sklearn\n",
    "warnings.filterwarnings(action='ignore')"
   ]
  },
  {
   "cell_type": "code",
   "execution_count": 4,
   "metadata": {},
   "outputs": [],
   "source": [
    "df=pd.read_csv('Heart_num_0228.csv')"
   ]
  },
  {
   "cell_type": "code",
   "execution_count": 3,
   "metadata": {},
   "outputs": [
    {
     "name": "stdout",
     "output_type": "stream",
     "text": [
      "<class 'pandas.core.frame.DataFrame'>\n",
      "RangeIndex: 274034 entries, 0 to 274033\n",
      "Data columns (total 47 columns):\n",
      " #   Column                                                                       Non-Null Count   Dtype  \n",
      "---  ------                                                                       --------------   -----  \n",
      " 0   State                                                                        274034 non-null  int64  \n",
      " 1   Sex                                                                          274034 non-null  int64  \n",
      " 2   GeneralHealth                                                                274034 non-null  float64\n",
      " 3   PhysicalHealthDays                                                           274034 non-null  float64\n",
      " 4   MentalHealthDays                                                             274034 non-null  float64\n",
      " 5   LastCheckupTime                                                              274034 non-null  float64\n",
      " 6   PhysicalActivities                                                           274034 non-null  int64  \n",
      " 7   SleepHours                                                                   274034 non-null  float64\n",
      " 8   RemovedTeeth                                                                 274034 non-null  float64\n",
      " 9   HadHeartAttack                                                               274034 non-null  int64  \n",
      " 10  HadAngina                                                                    274034 non-null  int64  \n",
      " 11  HadStroke                                                                    274034 non-null  int64  \n",
      " 12  HadAsthma                                                                    274034 non-null  int64  \n",
      " 13  HadSkinCancer                                                                274034 non-null  int64  \n",
      " 14  HadCOPD                                                                      274034 non-null  int64  \n",
      " 15  HadDepressiveDisorder                                                        274034 non-null  int64  \n",
      " 16  HadKidneyDisease                                                             274034 non-null  int64  \n",
      " 17  HadArthritis                                                                 274034 non-null  int64  \n",
      " 18  HadDiabetes                                                                  274034 non-null  int64  \n",
      " 19  DeafOrHardOfHearing                                                          274034 non-null  int64  \n",
      " 20  BlindOrVisionDifficulty                                                      274034 non-null  int64  \n",
      " 21  DifficultyConcentrating                                                      274034 non-null  int64  \n",
      " 22  DifficultyWalking                                                            274034 non-null  int64  \n",
      " 23  DifficultyDressingBathing                                                    274034 non-null  int64  \n",
      " 24  DifficultyErrands                                                            274034 non-null  int64  \n",
      " 25  SmokerStatus                                                                 274034 non-null  float64\n",
      " 26  ECigaretteUsage                                                              274034 non-null  float64\n",
      " 27  ChestScan                                                                    274034 non-null  int64  \n",
      " 28  AgeCategory                                                                  274034 non-null  int64  \n",
      " 29  HeightInMeters                                                               274034 non-null  float64\n",
      " 30  WeightInKilograms                                                            274034 non-null  float64\n",
      " 31  BMI                                                                          274034 non-null  float64\n",
      " 32  AlcoholDrinkers                                                              274034 non-null  int64  \n",
      " 33  HIVTesting                                                                   274034 non-null  int64  \n",
      " 34  FluVaxLast12                                                                 274034 non-null  int64  \n",
      " 35  PneumoVaxEver                                                                274034 non-null  int64  \n",
      " 36  HighRiskLastYear                                                             274034 non-null  int64  \n",
      " 37  CovidPos                                                                     274034 non-null  int64  \n",
      " 38  RaceEthnicityCategory_Black only, Non-Hispanic                               274034 non-null  int64  \n",
      " 39  RaceEthnicityCategory_Hispanic                                               274034 non-null  int64  \n",
      " 40  RaceEthnicityCategory_Multiracial, Non-Hispanic                              274034 non-null  int64  \n",
      " 41  RaceEthnicityCategory_Other race only, Non-Hispanic                          274034 non-null  int64  \n",
      " 42  RaceEthnicityCategory_White only, Non-Hispanic                               274034 non-null  int64  \n",
      " 43  TetanusLast10Tdap_No, did not receive any tetanus shot in the past 10 years  274034 non-null  int64  \n",
      " 44  TetanusLast10Tdap_Yes, received Tdap                                         274034 non-null  int64  \n",
      " 45  TetanusLast10Tdap_Yes, received tetanus shot but not sure what type          274034 non-null  int64  \n",
      " 46  TetanusLast10Tdap_Yes, received tetanus shot, but not Tdap                   274034 non-null  int64  \n",
      "dtypes: float64(11), int64(36)\n",
      "memory usage: 98.3 MB\n"
     ]
    }
   ],
   "source": [
    "df.info()"
   ]
  },
  {
   "cell_type": "code",
   "execution_count": 4,
   "metadata": {},
   "outputs": [
    {
     "data": {
      "text/html": [
       "<div>\n",
       "<style scoped>\n",
       "    .dataframe tbody tr th:only-of-type {\n",
       "        vertical-align: middle;\n",
       "    }\n",
       "\n",
       "    .dataframe tbody tr th {\n",
       "        vertical-align: top;\n",
       "    }\n",
       "\n",
       "    .dataframe thead th {\n",
       "        text-align: right;\n",
       "    }\n",
       "</style>\n",
       "<table border=\"1\" class=\"dataframe\">\n",
       "  <thead>\n",
       "    <tr style=\"text-align: right;\">\n",
       "      <th></th>\n",
       "      <th>State</th>\n",
       "      <th>Sex</th>\n",
       "      <th>GeneralHealth</th>\n",
       "      <th>PhysicalHealthDays</th>\n",
       "      <th>MentalHealthDays</th>\n",
       "      <th>LastCheckupTime</th>\n",
       "      <th>PhysicalActivities</th>\n",
       "      <th>SleepHours</th>\n",
       "      <th>RemovedTeeth</th>\n",
       "      <th>HadHeartAttack</th>\n",
       "      <th>...</th>\n",
       "      <th>CovidPos</th>\n",
       "      <th>RaceEthnicityCategory_Black only, Non-Hispanic</th>\n",
       "      <th>RaceEthnicityCategory_Hispanic</th>\n",
       "      <th>RaceEthnicityCategory_Multiracial, Non-Hispanic</th>\n",
       "      <th>RaceEthnicityCategory_Other race only, Non-Hispanic</th>\n",
       "      <th>RaceEthnicityCategory_White only, Non-Hispanic</th>\n",
       "      <th>TetanusLast10Tdap_No, did not receive any tetanus shot in the past 10 years</th>\n",
       "      <th>TetanusLast10Tdap_Yes, received Tdap</th>\n",
       "      <th>TetanusLast10Tdap_Yes, received tetanus shot but not sure what type</th>\n",
       "      <th>TetanusLast10Tdap_Yes, received tetanus shot, but not Tdap</th>\n",
       "    </tr>\n",
       "  </thead>\n",
       "  <tbody>\n",
       "    <tr>\n",
       "      <th>count</th>\n",
       "      <td>274034.000000</td>\n",
       "      <td>274034.000000</td>\n",
       "      <td>274034.000000</td>\n",
       "      <td>274034.000000</td>\n",
       "      <td>274034.000000</td>\n",
       "      <td>274034.000000</td>\n",
       "      <td>274034.000000</td>\n",
       "      <td>274034.000000</td>\n",
       "      <td>274034.000000</td>\n",
       "      <td>274034.000000</td>\n",
       "      <td>...</td>\n",
       "      <td>274034.000000</td>\n",
       "      <td>274034.000000</td>\n",
       "      <td>274034.000000</td>\n",
       "      <td>274034.000000</td>\n",
       "      <td>274034.000000</td>\n",
       "      <td>274034.000000</td>\n",
       "      <td>274034.000000</td>\n",
       "      <td>274034.000000</td>\n",
       "      <td>274034.000000</td>\n",
       "      <td>274034.000000</td>\n",
       "    </tr>\n",
       "    <tr>\n",
       "      <th>mean</th>\n",
       "      <td>27.447065</td>\n",
       "      <td>0.475470</td>\n",
       "      <td>2.461136</td>\n",
       "      <td>4.233347</td>\n",
       "      <td>4.223480</td>\n",
       "      <td>2.670070</td>\n",
       "      <td>0.767711</td>\n",
       "      <td>7.025698</td>\n",
       "      <td>2.318796</td>\n",
       "      <td>0.056340</td>\n",
       "      <td>...</td>\n",
       "      <td>0.599947</td>\n",
       "      <td>0.080384</td>\n",
       "      <td>0.093167</td>\n",
       "      <td>0.022523</td>\n",
       "      <td>0.049505</td>\n",
       "      <td>0.754421</td>\n",
       "      <td>0.339133</td>\n",
       "      <td>0.279535</td>\n",
       "      <td>0.301568</td>\n",
       "      <td>0.079764</td>\n",
       "    </tr>\n",
       "    <tr>\n",
       "      <th>std</th>\n",
       "      <td>15.521083</td>\n",
       "      <td>0.499399</td>\n",
       "      <td>1.042482</td>\n",
       "      <td>8.472746</td>\n",
       "      <td>8.140875</td>\n",
       "      <td>0.767337</td>\n",
       "      <td>0.422293</td>\n",
       "      <td>1.455640</td>\n",
       "      <td>0.877973</td>\n",
       "      <td>0.230577</td>\n",
       "      <td>...</td>\n",
       "      <td>0.898081</td>\n",
       "      <td>0.271888</td>\n",
       "      <td>0.290667</td>\n",
       "      <td>0.148376</td>\n",
       "      <td>0.216920</td>\n",
       "      <td>0.430431</td>\n",
       "      <td>0.473416</td>\n",
       "      <td>0.448771</td>\n",
       "      <td>0.458940</td>\n",
       "      <td>0.270928</td>\n",
       "    </tr>\n",
       "    <tr>\n",
       "      <th>min</th>\n",
       "      <td>0.000000</td>\n",
       "      <td>0.000000</td>\n",
       "      <td>0.000000</td>\n",
       "      <td>0.000000</td>\n",
       "      <td>0.000000</td>\n",
       "      <td>0.000000</td>\n",
       "      <td>0.000000</td>\n",
       "      <td>1.000000</td>\n",
       "      <td>0.000000</td>\n",
       "      <td>0.000000</td>\n",
       "      <td>...</td>\n",
       "      <td>0.000000</td>\n",
       "      <td>0.000000</td>\n",
       "      <td>0.000000</td>\n",
       "      <td>0.000000</td>\n",
       "      <td>0.000000</td>\n",
       "      <td>0.000000</td>\n",
       "      <td>0.000000</td>\n",
       "      <td>0.000000</td>\n",
       "      <td>0.000000</td>\n",
       "      <td>0.000000</td>\n",
       "    </tr>\n",
       "    <tr>\n",
       "      <th>25%</th>\n",
       "      <td>15.000000</td>\n",
       "      <td>0.000000</td>\n",
       "      <td>2.000000</td>\n",
       "      <td>0.000000</td>\n",
       "      <td>0.000000</td>\n",
       "      <td>3.000000</td>\n",
       "      <td>1.000000</td>\n",
       "      <td>6.000000</td>\n",
       "      <td>2.000000</td>\n",
       "      <td>0.000000</td>\n",
       "      <td>...</td>\n",
       "      <td>0.000000</td>\n",
       "      <td>0.000000</td>\n",
       "      <td>0.000000</td>\n",
       "      <td>0.000000</td>\n",
       "      <td>0.000000</td>\n",
       "      <td>1.000000</td>\n",
       "      <td>0.000000</td>\n",
       "      <td>0.000000</td>\n",
       "      <td>0.000000</td>\n",
       "      <td>0.000000</td>\n",
       "    </tr>\n",
       "    <tr>\n",
       "      <th>50%</th>\n",
       "      <td>26.000000</td>\n",
       "      <td>0.000000</td>\n",
       "      <td>3.000000</td>\n",
       "      <td>0.000000</td>\n",
       "      <td>0.000000</td>\n",
       "      <td>3.000000</td>\n",
       "      <td>1.000000</td>\n",
       "      <td>7.000000</td>\n",
       "      <td>3.000000</td>\n",
       "      <td>0.000000</td>\n",
       "      <td>...</td>\n",
       "      <td>0.000000</td>\n",
       "      <td>0.000000</td>\n",
       "      <td>0.000000</td>\n",
       "      <td>0.000000</td>\n",
       "      <td>0.000000</td>\n",
       "      <td>1.000000</td>\n",
       "      <td>0.000000</td>\n",
       "      <td>0.000000</td>\n",
       "      <td>0.000000</td>\n",
       "      <td>0.000000</td>\n",
       "    </tr>\n",
       "    <tr>\n",
       "      <th>75%</th>\n",
       "      <td>42.000000</td>\n",
       "      <td>1.000000</td>\n",
       "      <td>3.000000</td>\n",
       "      <td>4.000000</td>\n",
       "      <td>4.000000</td>\n",
       "      <td>3.000000</td>\n",
       "      <td>1.000000</td>\n",
       "      <td>8.000000</td>\n",
       "      <td>3.000000</td>\n",
       "      <td>0.000000</td>\n",
       "      <td>...</td>\n",
       "      <td>2.000000</td>\n",
       "      <td>0.000000</td>\n",
       "      <td>0.000000</td>\n",
       "      <td>0.000000</td>\n",
       "      <td>0.000000</td>\n",
       "      <td>1.000000</td>\n",
       "      <td>1.000000</td>\n",
       "      <td>1.000000</td>\n",
       "      <td>1.000000</td>\n",
       "      <td>0.000000</td>\n",
       "    </tr>\n",
       "    <tr>\n",
       "      <th>max</th>\n",
       "      <td>53.000000</td>\n",
       "      <td>1.000000</td>\n",
       "      <td>4.000000</td>\n",
       "      <td>30.000000</td>\n",
       "      <td>30.000000</td>\n",
       "      <td>3.000000</td>\n",
       "      <td>1.000000</td>\n",
       "      <td>24.000000</td>\n",
       "      <td>3.000000</td>\n",
       "      <td>1.000000</td>\n",
       "      <td>...</td>\n",
       "      <td>2.000000</td>\n",
       "      <td>1.000000</td>\n",
       "      <td>1.000000</td>\n",
       "      <td>1.000000</td>\n",
       "      <td>1.000000</td>\n",
       "      <td>1.000000</td>\n",
       "      <td>1.000000</td>\n",
       "      <td>1.000000</td>\n",
       "      <td>1.000000</td>\n",
       "      <td>1.000000</td>\n",
       "    </tr>\n",
       "  </tbody>\n",
       "</table>\n",
       "<p>8 rows × 47 columns</p>\n",
       "</div>"
      ],
      "text/plain": [
       "               State            Sex  GeneralHealth  PhysicalHealthDays  \\\n",
       "count  274034.000000  274034.000000  274034.000000       274034.000000   \n",
       "mean       27.447065       0.475470       2.461136            4.233347   \n",
       "std        15.521083       0.499399       1.042482            8.472746   \n",
       "min         0.000000       0.000000       0.000000            0.000000   \n",
       "25%        15.000000       0.000000       2.000000            0.000000   \n",
       "50%        26.000000       0.000000       3.000000            0.000000   \n",
       "75%        42.000000       1.000000       3.000000            4.000000   \n",
       "max        53.000000       1.000000       4.000000           30.000000   \n",
       "\n",
       "       MentalHealthDays  LastCheckupTime  PhysicalActivities     SleepHours  \\\n",
       "count     274034.000000    274034.000000       274034.000000  274034.000000   \n",
       "mean           4.223480         2.670070            0.767711       7.025698   \n",
       "std            8.140875         0.767337            0.422293       1.455640   \n",
       "min            0.000000         0.000000            0.000000       1.000000   \n",
       "25%            0.000000         3.000000            1.000000       6.000000   \n",
       "50%            0.000000         3.000000            1.000000       7.000000   \n",
       "75%            4.000000         3.000000            1.000000       8.000000   \n",
       "max           30.000000         3.000000            1.000000      24.000000   \n",
       "\n",
       "        RemovedTeeth  HadHeartAttack  ...       CovidPos  \\\n",
       "count  274034.000000   274034.000000  ...  274034.000000   \n",
       "mean        2.318796        0.056340  ...       0.599947   \n",
       "std         0.877973        0.230577  ...       0.898081   \n",
       "min         0.000000        0.000000  ...       0.000000   \n",
       "25%         2.000000        0.000000  ...       0.000000   \n",
       "50%         3.000000        0.000000  ...       0.000000   \n",
       "75%         3.000000        0.000000  ...       2.000000   \n",
       "max         3.000000        1.000000  ...       2.000000   \n",
       "\n",
       "       RaceEthnicityCategory_Black only, Non-Hispanic  \\\n",
       "count                                   274034.000000   \n",
       "mean                                         0.080384   \n",
       "std                                          0.271888   \n",
       "min                                          0.000000   \n",
       "25%                                          0.000000   \n",
       "50%                                          0.000000   \n",
       "75%                                          0.000000   \n",
       "max                                          1.000000   \n",
       "\n",
       "       RaceEthnicityCategory_Hispanic  \\\n",
       "count                   274034.000000   \n",
       "mean                         0.093167   \n",
       "std                          0.290667   \n",
       "min                          0.000000   \n",
       "25%                          0.000000   \n",
       "50%                          0.000000   \n",
       "75%                          0.000000   \n",
       "max                          1.000000   \n",
       "\n",
       "       RaceEthnicityCategory_Multiracial, Non-Hispanic  \\\n",
       "count                                    274034.000000   \n",
       "mean                                          0.022523   \n",
       "std                                           0.148376   \n",
       "min                                           0.000000   \n",
       "25%                                           0.000000   \n",
       "50%                                           0.000000   \n",
       "75%                                           0.000000   \n",
       "max                                           1.000000   \n",
       "\n",
       "       RaceEthnicityCategory_Other race only, Non-Hispanic  \\\n",
       "count                                      274034.000000     \n",
       "mean                                            0.049505     \n",
       "std                                             0.216920     \n",
       "min                                             0.000000     \n",
       "25%                                             0.000000     \n",
       "50%                                             0.000000     \n",
       "75%                                             0.000000     \n",
       "max                                             1.000000     \n",
       "\n",
       "       RaceEthnicityCategory_White only, Non-Hispanic  \\\n",
       "count                                   274034.000000   \n",
       "mean                                         0.754421   \n",
       "std                                          0.430431   \n",
       "min                                          0.000000   \n",
       "25%                                          1.000000   \n",
       "50%                                          1.000000   \n",
       "75%                                          1.000000   \n",
       "max                                          1.000000   \n",
       "\n",
       "       TetanusLast10Tdap_No, did not receive any tetanus shot in the past 10 years  \\\n",
       "count                                      274034.000000                             \n",
       "mean                                            0.339133                             \n",
       "std                                             0.473416                             \n",
       "min                                             0.000000                             \n",
       "25%                                             0.000000                             \n",
       "50%                                             0.000000                             \n",
       "75%                                             1.000000                             \n",
       "max                                             1.000000                             \n",
       "\n",
       "       TetanusLast10Tdap_Yes, received Tdap  \\\n",
       "count                         274034.000000   \n",
       "mean                               0.279535   \n",
       "std                                0.448771   \n",
       "min                                0.000000   \n",
       "25%                                0.000000   \n",
       "50%                                0.000000   \n",
       "75%                                1.000000   \n",
       "max                                1.000000   \n",
       "\n",
       "       TetanusLast10Tdap_Yes, received tetanus shot but not sure what type  \\\n",
       "count                                      274034.000000                     \n",
       "mean                                            0.301568                     \n",
       "std                                             0.458940                     \n",
       "min                                             0.000000                     \n",
       "25%                                             0.000000                     \n",
       "50%                                             0.000000                     \n",
       "75%                                             1.000000                     \n",
       "max                                             1.000000                     \n",
       "\n",
       "       TetanusLast10Tdap_Yes, received tetanus shot, but not Tdap  \n",
       "count                                      274034.000000           \n",
       "mean                                            0.079764           \n",
       "std                                             0.270928           \n",
       "min                                             0.000000           \n",
       "25%                                             0.000000           \n",
       "50%                                             0.000000           \n",
       "75%                                             0.000000           \n",
       "max                                             1.000000           \n",
       "\n",
       "[8 rows x 47 columns]"
      ]
     },
     "execution_count": 4,
     "metadata": {},
     "output_type": "execute_result"
    }
   ],
   "source": [
    "df.describe()"
   ]
  },
  {
   "cell_type": "code",
   "execution_count": 5,
   "metadata": {},
   "outputs": [
    {
     "data": {
      "image/png": "[encoded data removed]",
      "text/plain": [
       "<Figure size 1600x200 with 1 Axes>"
      ]
     },
     "metadata": {},
     "output_type": "display_data"
    },
    {
     "data": {
      "image/png": "[encoded data removed]",
      "text/plain": [
       "<Figure size 1600x200 with 1 Axes>"
      ]
     },
     "metadata": {},
     "output_type": "display_data"
    },
    {
     "data": {
      "image/png": "[encoded data removed]",
      "text/plain": [
       "<Figure size 1600x200 with 1 Axes>"
      ]
     },
     "metadata": {},
     "output_type": "display_data"
    },
    {
     "data": {
      "image/png": "[encoded data removed]",
      "text/plain": [
       "<Figure size 1600x200 with 1 Axes>"
      ]
     },
     "metadata": {},
     "output_type": "display_data"
    },
    {
     "data": {
      "image/png": "[encoded data removed]",
      "text/plain": [
       "<Figure size 1600x200 with 1 Axes>"
      ]
     },
     "metadata": {},
     "output_type": "display_data"
    },
    {
     "data": {
      "image/png": "[encoded data removed]",
      "text/plain": [
       "<Figure size 1600x200 with 1 Axes>"
      ]
     },
     "metadata": {},
     "output_type": "display_data"
    },
    {
     "data": {
      "image/png": "[encoded data removed]",
      "text/plain": [
       "<Figure size 1600x200 with 1 Axes>"
      ]
     },
     "metadata": {},
     "output_type": "display_data"
    },
    {
     "data": {
      "image/png": "[encoded data removed]",
      "text/plain": [
       "<Figure size 1600x200 with 1 Axes>"
      ]
     },
     "metadata": {},
     "output_type": "display_data"
    },
    {
     "data": {
      "image/png": "[encoded data removed]",
      "text/plain": [
       "<Figure size 1600x200 with 1 Axes>"
      ]
     },
     "metadata": {},
     "output_type": "display_data"
    },
    {
     "data": {
      "image/png": "[encoded data removed]",
      "text/plain": [
       "<Figure size 1600x200 with 1 Axes>"
      ]
     },
     "metadata": {},
     "output_type": "display_data"
    },
    {
     "data": {
      "image/png": "[encoded data removed]",
      "text/plain": [
       "<Figure size 1600x200 with 1 Axes>"
      ]
     },
     "metadata": {},
     "output_type": "display_data"
    },
    {
     "data": {
      "image/png": "[encoded data removed]",
      "text/plain": [
       "<Figure size 1600x200 with 1 Axes>"
      ]
     },
     "metadata": {},
     "output_type": "display_data"
    },
    {
     "data": {
      "image/png": "[encoded data removed]",
      "text/plain": [
       "<Figure size 1600x200 with 1 Axes>"
      ]
     },
     "metadata": {},
     "output_type": "display_data"
    },
    {
     "data": {
      "image/png": "[encoded data removed]",
      "text/plain": [
       "<Figure size 1600x200 with 1 Axes>"
      ]
     },
     "metadata": {},
     "output_type": "display_data"
    },
    {
     "data": {
      "image/png": "[encoded data removed]",
      "text/plain": [
       "<Figure size 1600x200 with 1 Axes>"
      ]
     },
     "metadata": {},
     "output_type": "display_data"
    }
   ],
   "source": [
    "# boxplot을 이용해서 이상치 check\n",
    "for col in df.columns:\n",
    "    if len(df[col].unique())>2:\n",
    "        sns.set_style('ticks')\n",
    "        plt.figure(figsize=(16,2))\n",
    "        sns.boxplot(data=df,x=col)\n",
    "        plt.show()"
   ]
  },
  {
   "cell_type": "code",
   "execution_count": 5,
   "metadata": {},
   "outputs": [],
   "source": [
    "# outlier check\n",
    "def get_outlier(col):\n",
    "    Q1=df[col].quantile(0.25)\n",
    "    Q3=df[col].quantile(0.75)\n",
    "    IQR=Q3-Q1\n",
    "    lower_limit=Q1-(IQR*1.5)\n",
    "    upper_limit=Q3+(IQR*1.5)\n",
    "    outliers=df[(df[col]<lower_limit) | df[col]>upper_limit]\n",
    "    return outliers,lower_limit,upper_limit"
   ]
  },
  {
   "cell_type": "code",
   "execution_count": 6,
   "metadata": {},
   "outputs": [
    {
     "name": "stdout",
     "output_type": "stream",
     "text": [
      "Lower Limit:3.0\n",
      "Upper Limit:11.0\n"
     ]
    }
   ],
   "source": [
    "# lower, upper 값 check\n",
    "sleep_outlier,sleep_lower,sleep_upper=get_outlier('SleepHours')\n",
    "print(f\"Lower Limit:{sleep_lower}\\nUpper Limit:{sleep_upper}\")"
   ]
  },
  {
   "cell_type": "code",
   "execution_count": 7,
   "metadata": {},
   "outputs": [],
   "source": [
    "# lower, upper 값 제거\n",
    "df.drop(df[df['SleepHours']<3].index,inplace=True)\n",
    "df.drop(df[df['SleepHours']>11].index,inplace=True)"
   ]
  },
  {
   "cell_type": "code",
   "execution_count": 8,
   "metadata": {},
   "outputs": [
    {
     "name": "stdout",
     "output_type": "stream",
     "text": [
      "Lower Limit:1.4049999999999998\n",
      "Upper Limit:2.0050000000000003\n"
     ]
    }
   ],
   "source": [
    "height_outlier,height_lower,height_upper=get_outlier('HeightInMeters')\n",
    "print(f'Lower Limit:{height_lower}\\nUpper Limit:{height_upper}')"
   ]
  },
  {
   "cell_type": "code",
   "execution_count": 9,
   "metadata": {},
   "outputs": [
    {
     "data": {
      "text/plain": [
       "array([1.6 , 1.57, 1.8 , 1.65, 1.63, 1.73, 1.68, 1.55, 1.93, 1.88, 1.7 ,\n",
       "       1.78, 1.85, 1.75, 1.52, 1.91, 1.96, 1.83, 1.5 , 1.47, 1.42, 1.98,\n",
       "       1.45, 1.67, 1.51, 1.53, 1.69, 1.56, 1.9 , 1.54, 1.72, 1.87, 1.74,\n",
       "       1.49, 1.64, 1.58, 1.62, 1.79, 1.46, 1.89, 1.61, 1.77, 1.59, 1.86,\n",
       "       1.82, 1.66, 1.71, 1.95, 1.76, 1.84, 1.81, 1.44, 1.48, 1.92, 1.43,\n",
       "       2.  ])"
      ]
     },
     "execution_count": 9,
     "metadata": {},
     "output_type": "execute_result"
    }
   ],
   "source": [
    "df.drop(df[df['HeightInMeters']<height_lower].index,inplace=True)\n",
    "df.drop(df[df['HeightInMeters']>height_upper].index,inplace=True)\n",
    "df['HeightInMeters'].unique()"
   ]
  },
  {
   "cell_type": "code",
   "execution_count": 10,
   "metadata": {},
   "outputs": [
    {
     "name": "stdout",
     "output_type": "stream",
     "text": [
      "Lower Limit:27.225000000000016\n",
      "Upper Limit:136.065\n"
     ]
    }
   ],
   "source": [
    "weight_outlier,weight_lower,weight_upper=get_outlier('WeightInKilograms')\n",
    "print(f'Lower Limit:{weight_lower}\\nUpper Limit:{weight_upper}')"
   ]
  },
  {
   "cell_type": "code",
   "execution_count": 11,
   "metadata": {},
   "outputs": [
    {
     "data": {
      "text/plain": [
       "array([ 68.04,  53.98,  84.82,  62.6 ,  73.48,  59.42,  85.28,  71.21,\n",
       "        90.72, 107.05,  57.15, 105.23,  77.11,  56.7 ,  79.38,  86.18,\n",
       "       113.4 , 102.06,  61.23,  59.87,  65.77, 104.33,  81.65,  53.52,\n",
       "        61.69,  63.5 , 127.01,  78.93,  74.84,  58.97,  92.08,  83.91,\n",
       "        49.9 , 117.93, 102.97,  62.14,  83.46,  72.57,  54.43,  60.78,\n",
       "       117.03,  65.32,  89.81,  74.39,  68.95,  79.83, 108.41,  90.26,\n",
       "        55.79,  78.02,  91.17,  93.89,  95.25,  73.94,  88.9 ,  80.74,\n",
       "        81.19,  51.71,  76.2 ,  75.3 ,  70.31,  63.05,  82.55,  66.22,\n",
       "       106.59,  86.64,  84.37, 108.86,  71.67,  92.53, 124.74,  99.79,\n",
       "        97.52,  63.96,  92.99,  94.35,  44.45, 128.82,  98.88,  45.36,\n",
       "       110.68,  46.72,  58.06,  73.03,  60.33,  95.71,  88.45, 131.09,\n",
       "        78.47,  85.73,  67.59, 103.87, 120.2 ,  88.  , 122.47, 115.67,\n",
       "        54.88, 111.58,  52.16,  77.56, 126.55,  94.8 , 123.83,  50.8 ,\n",
       "        69.85,  91.63, 112.49,  64.41,  68.49,  82.1 , 106.14,  57.61,\n",
       "        70.76,  96.16,  67.13,  48.08, 109.77,  64.86, 111.13, 121.11,\n",
       "        55.34,  93.44,  89.36, 120.66,  66.68,  44.91, 132.  , 107.5 ,\n",
       "       107.95, 103.42,  87.09,  83.01, 100.7 ,  56.25,  96.62,  69.4 ,\n",
       "        97.07,  58.51,  72.12,  76.66,  49.44, 122.02,  47.17,  52.62,\n",
       "       110.22,  48.53,  87.54, 114.31,  47.63,  31.75,  97.98, 101.15,\n",
       "       100.24, 113.85, 118.39, 133.81,  41.73, 119.75,  98.43, 116.57,\n",
       "       131.54,  75.75, 104.78, 132.45, 102.51, 116.12,  40.37, 129.27,\n",
       "        99.34,  53.07, 124.28, 112.94,  80.29, 105.69,  45.81, 119.29,\n",
       "        51.26,  46.27, 127.91, 130.63, 115.21, 109.32, 135.62, 129.73,\n",
       "       127.46, 121.56, 118.84, 101.6 , 126.1 , 135.17, 122.92, 112.04,\n",
       "       133.36,  50.35, 134.26, 123.38,  37.19,  36.29,  48.99,  35.38,\n",
       "        37.65,  86.  ,  43.09,  42.18,  90.  ,  67.  ,  44.  ,  40.82,\n",
       "        53.  , 130.18, 100.  ,  64.  ,  43.54, 134.72, 125.19,  34.02,\n",
       "        76.  ,  73.  ,  80.  ,  82.  ,  54.  ,  66.  ,  74.  ,  39.46,\n",
       "        60.  ,  59.  ,  70.  ,  46.  ,  38.56,  75.  ,  93.  ,  78.  ,\n",
       "        38.1 , 104.  , 125.65,  68.  , 134.  , 130.  ,  32.21,  69.  ,\n",
       "       105.  ,  65.  ,  32.  ,  85.  ,  72.  ,  50.  , 128.37, 114.76,\n",
       "        62.  ,  87.  ,  39.92,  58.  , 121.  ,  42.64,  89.  ,  55.  ,\n",
       "        29.48,  56.  ,  52.  ,  63.  , 120.  ,  83.  ,  57.  ,  77.  ,\n",
       "        96.  , 115.  ,  41.  ,  39.01,  95.  ,  84.  ,  45.  ,  94.  ,\n",
       "        29.03,  49.  , 108.  ,  61.  , 132.9 ,  81.  ,  79.  ,  92.  ,\n",
       "        71.  , 107.  , 111.  ,  41.28, 110.  ,  35.83,  48.  , 117.48,\n",
       "       102.  , 125.  ,  36.74, 135.  ,  91.  ,  98.  , 118.  ,  40.  ,\n",
       "        33.11,  34.47,  33.57, 103.  , 101.  ,  32.66,  31.3 , 113.  ,\n",
       "       114.  , 122.  ,  47.  ,  30.39, 117.  ,  30.  ,  37.  ,  97.  ,\n",
       "        34.93, 124.  ,  99.  ,  28.12,  30.84, 116.  ,  28.  , 123.  ,\n",
       "        51.  ,  28.58])"
      ]
     },
     "execution_count": 11,
     "metadata": {},
     "output_type": "execute_result"
    }
   ],
   "source": [
    "df.drop(df[df['WeightInKilograms']<weight_lower].index,inplace=True)\n",
    "df.drop(df[df['WeightInKilograms']>weight_upper].index,inplace=True)\n",
    "df['WeightInKilograms'].unique()"
   ]
  },
  {
   "cell_type": "code",
   "execution_count": 12,
   "metadata": {},
   "outputs": [],
   "source": [
    "df['HeartDisease']=df['HadHeartAttack']|df['HadAngina']\n",
    "df.drop(['HadHeartAttack','HadAngina'],axis=1,inplace=True)"
   ]
  },
  {
   "cell_type": "code",
   "execution_count": 13,
   "metadata": {},
   "outputs": [],
   "source": [
    "data=df.drop('HeartDisease',axis=1)\n",
    "target=df['HeartDisease']"
   ]
  },
  {
   "cell_type": "code",
   "execution_count": 14,
   "metadata": {},
   "outputs": [],
   "source": [
    "x_train,x_test,y_train,y_test=train_test_split(data,target,test_size=0.2,random_state=1234)"
   ]
  },
  {
   "cell_type": "code",
   "execution_count": 15,
   "metadata": {},
   "outputs": [
    {
     "name": "stdout",
     "output_type": "stream",
     "text": [
      "original dataset shape: Counter({0: 191518, 1: 18656})\n",
      "resample dataset shape: Counter({0: 191518, 1: 191518})\n"
     ]
    }
   ],
   "source": [
    "from imblearn.over_sampling import SMOTE\n",
    "from collections import Counter\n",
    "smote=SMOTE(k_neighbors=4,random_state=1234)\n",
    "x_train_r,y_train_r=smote.fit_resample(x_train,y_train)\n",
    "x_test_r,y_test_r=smote.fit_resample(x_test,y_test)\n",
    "print('original dataset shape:',Counter(y_train))\n",
    "print('resample dataset shape:',Counter(y_train_r))"
   ]
  },
  {
   "cell_type": "code",
   "execution_count": 16,
   "metadata": {},
   "outputs": [],
   "source": [
    "std=StandardScaler()\n",
    "robust=RobustScaler()\n",
    "norm=Normalizer()\n",
    "std_x_train=std.fit_transform(x_train)\n",
    "robust_x_train=robust.fit_transform(x_train)\n",
    "norm_x_train=norm.fit_transform(x_train)\n",
    "std_x_test=std.transform(x_test)\n",
    "robust_x_test=robust.transform(x_test)\n",
    "norm_x_test=norm.transform(x_test)"
   ]
  },
  {
   "cell_type": "code",
   "execution_count": 17,
   "metadata": {},
   "outputs": [],
   "source": [
    "from sklearn.metrics import  accuracy_score, f1_score"
   ]
  },
  {
   "cell_type": "code",
   "execution_count": 18,
   "metadata": {},
   "outputs": [],
   "source": [
    "def scaler_diff_cat(x_train,x_test,y_train,y_test):\n",
    "    cat_model=CatBoostClassifier(silent=True)\n",
    "    cat_model.fit(x_train,y_train)\n",
    "    pred=cat_model.predict(x_test)\n",
    "    print(f'f1 score: {f1_score(y_test,pred)}')\n",
    "    print(f'accuracy score: {accuracy_score(y_test,pred)}')"
   ]
  },
  {
   "cell_type": "code",
   "execution_count": 20,
   "metadata": {},
   "outputs": [
    {
     "name": "stdout",
     "output_type": "stream",
     "text": [
      "f1 score: 0.16958958596998736\n",
      "accuracy score: 0.9125875456760049\n",
      "f1 score: 0.16826141902870556\n",
      "accuracy score: 0.9123211023142509\n",
      "f1 score: 0.16871387283236994\n",
      "accuracy score: 0.9124162606577345\n"
     ]
    }
   ],
   "source": [
    "scaler_diff_cat(std_x_train,std_x_test,y_train,y_test)\n",
    "scaler_diff_cat(robust_x_train,robust_x_test,y_train,y_test)\n",
    "scaler_diff_cat(norm_x_train,norm_x_test,y_train,y_test)"
   ]
  },
  {
   "cell_type": "code",
   "execution_count": 137,
   "metadata": {},
   "outputs": [
    {
     "name": "stdout",
     "output_type": "stream",
     "text": [
      "f1 score: 0.16826141902870556\n",
      "accuracy score: 0.9123211023142509\n"
     ]
    }
   ],
   "source": [
    "scaler_diff_cat(x_train,x_test,y_train,y_test)"
   ]
  },
  {
   "cell_type": "code",
   "execution_count": 21,
   "metadata": {},
   "outputs": [],
   "source": [
    "def scaler_diff_tree(x_train,x_test,y_train,y_test):\n",
    "    tree_model=DecisionTreeClassifier()\n",
    "    tree_model.fit(x_train,y_train)\n",
    "    pred=tree_model.predict(x_test)\n",
    "    print(f'f1 score: {f1_score(y_test,pred)}')\n",
    "    print(f'accuracy score: {accuracy_score(y_test,pred)}')"
   ]
  },
  {
   "cell_type": "code",
   "execution_count": 139,
   "metadata": {},
   "outputs": [
    {
     "name": "stdout",
     "output_type": "stream",
     "text": [
      "f1 score: 0.2565085771947528\n",
      "accuracy score: 0.8597746650426309\n",
      "f1 score: 0.2500755667506297\n",
      "accuracy score: 0.8583472898903776\n",
      "f1 score: 0.25020593080724873\n",
      "accuracy score: 0.8614113885505481\n"
     ]
    }
   ],
   "source": [
    "scaler_diff_tree(std_x_train,std_x_test,y_train,y_test)\n",
    "scaler_diff_tree(robust_x_train,robust_x_test,y_train,y_test)\n",
    "scaler_diff_tree(norm_x_train,norm_x_test,y_train,y_test)"
   ]
  },
  {
   "cell_type": "code",
   "execution_count": 140,
   "metadata": {},
   "outputs": [
    {
     "name": "stdout",
     "output_type": "stream",
     "text": [
      "f1 score: 0.25294295200724415\n",
      "accuracy score: 0.8586898599269184\n"
     ]
    }
   ],
   "source": [
    "scaler_diff_tree(x_train,x_test,y_train,y_test)"
   ]
  },
  {
   "cell_type": "code",
   "execution_count": 26,
   "metadata": {},
   "outputs": [
    {
     "name": "stdout",
     "output_type": "stream",
     "text": [
      "f1 score: 0.09480545131345053\n",
      "accuracy score: 0.912777862362972\n"
     ]
    }
   ],
   "source": [
    "from sklearn.ensemble import RandomForestClassifier\n",
    "rf=RandomForestClassifier()\n",
    "rf.fit(x_train,y_train)\n",
    "pred=rf.predict(x_test)\n",
    "print(f'f1 score: {f1_score(y_test,pred)}')\n",
    "print(f'accuracy score: {accuracy_score(y_test,pred)}')"
   ]
  },
  {
   "cell_type": "code",
   "execution_count": 23,
   "metadata": {},
   "outputs": [],
   "source": [
    "# over sampling data\n",
    "std_x_train_r=std.fit_transform(x_train_r)\n",
    "robust_x_train_r=robust.fit_transform(x_train_r)\n",
    "norm_x_train_r=norm.fit_transform(x_train_r)\n",
    "std_x_test_r=std.transform(x_test_r)\n",
    "robust_x_test_r=robust.transform(x_test_r)\n",
    "norm_x_test_r=norm.transform(x_test_r)"
   ]
  },
  {
   "cell_type": "code",
   "execution_count": 24,
   "metadata": {},
   "outputs": [
    {
     "name": "stdout",
     "output_type": "stream",
     "text": [
      "f1 score: 0.9486227778863058\n",
      "accuracy score: 0.9505948653725735\n",
      "f1 score: 0.9487655325845135\n",
      "accuracy score: 0.9507305364224587\n",
      "f1 score: 0.9328853952618589\n",
      "accuracy score: 0.9355771237737425\n"
     ]
    }
   ],
   "source": [
    "# over sampling data score\n",
    "scaler_diff_cat(std_x_train_r,std_x_test_r,y_train_r,y_test_r)\n",
    "scaler_diff_cat(robust_x_train_r,robust_x_test_r,y_train_r,y_test_r)\n",
    "scaler_diff_cat(norm_x_train_r,norm_x_test_r,y_train_r,y_test_r)"
   ]
  },
  {
   "cell_type": "code",
   "execution_count": 34,
   "metadata": {},
   "outputs": [
    {
     "name": "stdout",
     "output_type": "stream",
     "text": [
      "f1 score: 0.9488014590932777\n",
      "accuracy score: 0.9507827175954916\n"
     ]
    }
   ],
   "source": [
    "scaler_diff_cat(x_train_r,x_test_r,y_train_r,y_test_r)"
   ]
  },
  {
   "cell_type": "code",
   "execution_count": 33,
   "metadata": {},
   "outputs": [
    {
     "name": "stdout",
     "output_type": "stream",
     "text": [
      "f1 score: 0.901382992139224\n",
      "accuracy score: 0.9020663744520977\n",
      "f1 score: 0.9010400252127324\n",
      "accuracy score: 0.9016906700062617\n",
      "f1 score: 0.8399848049058447\n",
      "accuracy score: 0.846138593195575\n"
     ]
    }
   ],
   "source": [
    "scaler_diff_tree(std_x_train_r,std_x_test_r,y_train_r,y_test_r)\n",
    "scaler_diff_tree(robust_x_train_r,robust_x_test_r,y_train_r,y_test_r)\n",
    "scaler_diff_tree(norm_x_train_r,norm_x_test_r,y_train_r,y_test_r)"
   ]
  },
  {
   "cell_type": "code",
   "execution_count": 35,
   "metadata": {},
   "outputs": [
    {
     "name": "stdout",
     "output_type": "stream",
     "text": [
      "f1 score: 0.9015022586406135\n",
      "accuracy score: 0.9021498643289502\n"
     ]
    }
   ],
   "source": [
    "scaler_diff_tree(x_train_r,x_test_r,y_train_r,y_test_r)"
   ]
  },
  {
   "cell_type": "code",
   "execution_count": null,
   "metadata": {},
   "outputs": [],
   "source": []
  }
 ],
 "metadata": {
  "kernelspec": {
   "display_name": "base",
   "language": "python",
   "name": "python3"
  },
  "language_info": {
   "codemirror_mode": {
    "name": "ipython",
    "version": 3
   },
   "file_extension": ".py",
   "mimetype": "text/x-python",
   "name": "python",
   "nbconvert_exporter": "python",
   "pygments_lexer": "ipython3",
   "version": "3.8.16"
  }
 },
 "nbformat": 4,
 "nbformat_minor": 2
}
