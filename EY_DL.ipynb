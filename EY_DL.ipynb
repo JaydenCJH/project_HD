{
 "cells": [
  {
   "cell_type": "code",
   "execution_count": 1,
   "metadata": {},
   "outputs": [],
   "source": [
    "import numpy as np\n",
    "import seaborn as sns\n",
    "import pandas as pd\n",
    "pd.set_option('display.max_columns', 50)"
   ]
  },
  {
   "cell_type": "code",
   "execution_count": 2,
   "metadata": {},
   "outputs": [
    {
     "name": "stdout",
     "output_type": "stream",
     "text": [
      "Original data: 274034\n",
      "Remove Outlier data: 261812\n"
     ]
    }
   ],
   "source": [
    "data = pd.read_csv('heart_num_0228.csv')\n",
    "Q1 = data[['SleepHours', 'BMI']].quantile(q = 0.25)\n",
    "Q3 = data[['SleepHours', 'BMI']].quantile(q = 0.75)\n",
    "IQR = Q3-Q1\n",
    "data_iqr = data[(data['SleepHours'] <= Q3['SleepHours']+IQR['SleepHours']*1.5)&(data['SleepHours'] >= Q1['SleepHours']-IQR['SleepHours']*1.5)]\n",
    "data_iqr = data_iqr[(data_iqr['BMI'] <= Q3['BMI']+IQR['BMI']*1.5)&(data_iqr['BMI'] >= Q1['BMI']-IQR['BMI']*1.5)]\n",
    "print('Original data:', len(data))\n",
    "print('Remove Outlier data:', len(data_iqr))"
   ]
  },
  {
   "cell_type": "code",
   "execution_count": 3,
   "metadata": {},
   "outputs": [],
   "source": [
    "X = data_iqr.drop('HadHeartAttack', axis = 1)\n",
    "y = data_iqr['HadHeartAttack']"
   ]
  },
  {
   "cell_type": "code",
   "execution_count": 4,
   "metadata": {},
   "outputs": [],
   "source": [
    "from imblearn.over_sampling import SMOTE"
   ]
  },
  {
   "cell_type": "code",
   "execution_count": 5,
   "metadata": {},
   "outputs": [
    {
     "name": "stdout",
     "output_type": "stream",
     "text": [
      "Original Data: 261812\n",
      "Resampled Data: 494774\n"
     ]
    }
   ],
   "source": [
    "smo = SMOTE(random_state = 1234)\n",
    "X_re, y_re = smo.fit_resample(X, y)\n",
    "print('Original Data:', len(X))\n",
    "print('Resampled Data:', len(X_re))"
   ]
  },
  {
   "cell_type": "code",
   "execution_count": 6,
   "metadata": {},
   "outputs": [],
   "source": [
    "from sklearn.model_selection import train_test_split"
   ]
  },
  {
   "cell_type": "code",
   "execution_count": 7,
   "metadata": {},
   "outputs": [],
   "source": [
    "X_train, X_test, y_train, y_test = train_test_split(X_re, y_re, test_size = 0.2, random_state = 1234)"
   ]
  },
  {
   "cell_type": "code",
   "execution_count": 8,
   "metadata": {},
   "outputs": [],
   "source": [
    "from sklearn.preprocessing import RobustScaler"
   ]
  },
  {
   "cell_type": "code",
   "execution_count": 9,
   "metadata": {},
   "outputs": [],
   "source": [
    "rbs = RobustScaler()\n",
    "X_trn = rbs.fit_transform(X_train)\n",
    "X_tst = rbs.transform(X_test)"
   ]
  },
  {
   "cell_type": "code",
   "execution_count": 10,
   "metadata": {},
   "outputs": [
    {
     "name": "stdout",
     "output_type": "stream",
     "text": [
      "WARNING:tensorflow:From c:\\Users\\kims9\\AppData\\Local\\Programs\\Python\\Python311\\Lib\\site-packages\\keras\\src\\losses.py:2976: The name tf.losses.sparse_softmax_cross_entropy is deprecated. Please use tf.compat.v1.losses.sparse_softmax_cross_entropy instead.\n",
      "\n"
     ]
    }
   ],
   "source": [
    "from tensorflow.keras.models import Sequential\n",
    "from tensorflow.keras.layers import Dense\n",
    "from keras.callbacks import EarlyStopping\n",
    "import tensorflow as tf"
   ]
  },
  {
   "cell_type": "code",
   "execution_count": 11,
   "metadata": {},
   "outputs": [
    {
     "name": "stdout",
     "output_type": "stream",
     "text": [
      "(395819, 46)\n"
     ]
    }
   ],
   "source": [
    "print(X_trn.shape)"
   ]
  },
  {
   "cell_type": "code",
   "execution_count": 12,
   "metadata": {},
   "outputs": [],
   "source": [
    "es = EarlyStopping(monitor = 'accuracy')"
   ]
  },
  {
   "cell_type": "code",
   "execution_count": 13,
   "metadata": {},
   "outputs": [
    {
     "name": "stdout",
     "output_type": "stream",
     "text": [
      "WARNING:tensorflow:From c:\\Users\\kims9\\AppData\\Local\\Programs\\Python\\Python311\\Lib\\site-packages\\keras\\src\\backend.py:873: The name tf.get_default_graph is deprecated. Please use tf.compat.v1.get_default_graph instead.\n",
      "\n"
     ]
    }
   ],
   "source": [
    "model = Sequential()\n",
    "model.add(Dense(50, input_dim = 46, activation = 'relu'))\n",
    "model.add(Dense(28, activation = 'relu'))\n",
    "model.add(Dense(16, activation = 'relu'))\n",
    "model.add(Dense(8, activation = 'relu'))\n",
    "model.add(Dense(1, activation = 'sigmoid'))"
   ]
  },
  {
   "cell_type": "code",
   "execution_count": 14,
   "metadata": {},
   "outputs": [],
   "source": [
    "from keras import backend as K\n",
    "\n",
    "def recall_m(y_true, y_pred):\n",
    "    true_positives = K.sum(K.round(K.clip(y_true * y_pred, 0, 1)))\n",
    "    possible_positives = K.sum(K.round(K.clip(y_true, 0, 1)))\n",
    "    recall = true_positives / (possible_positives + K.epsilon())\n",
    "    return recall\n",
    "\n",
    "def precision_m(y_true, y_pred):\n",
    "    true_positives = K.sum(K.round(K.clip(y_true * y_pred, 0, 1)))\n",
    "    predicted_positives = K.sum(K.round(K.clip(y_pred, 0, 1)))\n",
    "    precision = true_positives / (predicted_positives + K.epsilon())\n",
    "    return precision\n",
    "\n",
    "def f1_m(y_true, y_pred):\n",
    "    precision = precision_m(y_true, y_pred)\n",
    "    recall = recall_m(y_true, y_pred)\n",
    "    return 2*((precision*recall)/(precision+recall+K.epsilon()))"
   ]
  },
  {
   "cell_type": "code",
   "execution_count": 15,
   "metadata": {},
   "outputs": [
    {
     "name": "stdout",
     "output_type": "stream",
     "text": [
      "WARNING:tensorflow:From c:\\Users\\kims9\\AppData\\Local\\Programs\\Python\\Python311\\Lib\\site-packages\\keras\\src\\optimizers\\__init__.py:309: The name tf.train.Optimizer is deprecated. Please use tf.compat.v1.train.Optimizer instead.\n",
      "\n",
      "Epoch 1/100\n",
      "WARNING:tensorflow:From c:\\Users\\kims9\\AppData\\Local\\Programs\\Python\\Python311\\Lib\\site-packages\\keras\\src\\utils\\tf_utils.py:492: The name tf.ragged.RaggedTensorValue is deprecated. Please use tf.compat.v1.ragged.RaggedTensorValue instead.\n",
      "\n",
      "WARNING:tensorflow:From c:\\Users\\kims9\\AppData\\Local\\Programs\\Python\\Python311\\Lib\\site-packages\\keras\\src\\engine\\base_layer_utils.py:384: The name tf.executing_eagerly_outside_functions is deprecated. Please use tf.compat.v1.executing_eagerly_outside_functions instead.\n",
      "\n",
      "39582/39582 [==============================] - 49s 1ms/step - loss: 0.1857 - accuracy: 0.9231 - f1_m: 0.9104 - precision_m: 0.9412 - recall_m: 0.8993\n",
      "Epoch 2/100\n",
      "39582/39582 [==============================] - 48s 1ms/step - loss: 0.1609 - accuracy: 0.9339 - f1_m: 0.9233 - precision_m: 0.9521 - recall_m: 0.9114\n",
      "Epoch 3/100\n",
      "39582/39582 [==============================] - 49s 1ms/step - loss: 0.1512 - accuracy: 0.9382 - f1_m: 0.9279 - precision_m: 0.9562 - recall_m: 0.9154\n",
      "Epoch 4/100\n",
      "39582/39582 [==============================] - 48s 1ms/step - loss: 0.1459 - accuracy: 0.9404 - f1_m: 0.9310 - precision_m: 0.9595 - recall_m: 0.9180\n",
      "Epoch 5/100\n",
      "39582/39582 [==============================] - 46s 1ms/step - loss: 0.1429 - accuracy: 0.9419 - f1_m: 0.9326 - precision_m: 0.9593 - recall_m: 0.9208\n",
      "Epoch 6/100\n",
      "39582/39582 [==============================] - 44s 1ms/step - loss: 0.1406 - accuracy: 0.9431 - f1_m: 0.9340 - precision_m: 0.9604 - recall_m: 0.9222\n",
      "Epoch 7/100\n",
      "39582/39582 [==============================] - 44s 1ms/step - loss: 0.1393 - accuracy: 0.9436 - f1_m: 0.9343 - precision_m: 0.9610 - recall_m: 0.9219\n",
      "Epoch 8/100\n",
      "39582/39582 [==============================] - 44s 1ms/step - loss: 0.1377 - accuracy: 0.9443 - f1_m: 0.9350 - precision_m: 0.9610 - recall_m: 0.9234\n",
      "Epoch 9/100\n",
      "39582/39582 [==============================] - 46s 1ms/step - loss: 0.1366 - accuracy: 0.9451 - f1_m: 0.9362 - precision_m: 0.9620 - recall_m: 0.9247\n",
      "Epoch 10/100\n",
      "39582/39582 [==============================] - 45s 1ms/step - loss: 0.1356 - accuracy: 0.9457 - f1_m: 0.9370 - precision_m: 0.9632 - recall_m: 0.9248\n",
      "Epoch 11/100\n",
      "39582/39582 [==============================] - 47s 1ms/step - loss: 0.1347 - accuracy: 0.9458 - f1_m: 0.9371 - precision_m: 0.9625 - recall_m: 0.9257\n",
      "Epoch 12/100\n",
      "39582/39582 [==============================] - 52s 1ms/step - loss: 0.1337 - accuracy: 0.9463 - f1_m: 0.9378 - precision_m: 0.9624 - recall_m: 0.9267\n",
      "Epoch 13/100\n",
      "39582/39582 [==============================] - 50s 1ms/step - loss: 0.1327 - accuracy: 0.9467 - f1_m: 0.9382 - precision_m: 0.9627 - recall_m: 0.9275\n",
      "Epoch 14/100\n",
      "39582/39582 [==============================] - 63s 2ms/step - loss: 0.1321 - accuracy: 0.9474 - f1_m: 0.9390 - precision_m: 0.9630 - recall_m: 0.9284\n",
      "Epoch 15/100\n",
      "39582/39582 [==============================] - 46s 1ms/step - loss: 0.1314 - accuracy: 0.9476 - f1_m: 0.9391 - precision_m: 0.9634 - recall_m: 0.9284\n",
      "Epoch 16/100\n",
      "39582/39582 [==============================] - 44s 1ms/step - loss: 0.1309 - accuracy: 0.9476 - f1_m: 0.9386 - precision_m: 0.9626 - recall_m: 0.9281\n",
      "Epoch 17/100\n",
      "39582/39582 [==============================] - 44s 1ms/step - loss: 0.1299 - accuracy: 0.9482 - f1_m: 0.9398 - precision_m: 0.9640 - recall_m: 0.9290\n",
      "Epoch 18/100\n",
      "39582/39582 [==============================] - 45s 1ms/step - loss: 0.1295 - accuracy: 0.9485 - f1_m: 0.9405 - precision_m: 0.9646 - recall_m: 0.9295\n",
      "Epoch 19/100\n",
      "39582/39582 [==============================] - 45s 1ms/step - loss: 0.1284 - accuracy: 0.9489 - f1_m: 0.9408 - precision_m: 0.9655 - recall_m: 0.9293\n",
      "Epoch 20/100\n",
      "39582/39582 [==============================] - 48s 1ms/step - loss: 0.1278 - accuracy: 0.9492 - f1_m: 0.9409 - precision_m: 0.9643 - recall_m: 0.9304\n",
      "Epoch 21/100\n",
      "39582/39582 [==============================] - 49s 1ms/step - loss: 0.1272 - accuracy: 0.9494 - f1_m: 0.9415 - precision_m: 0.9654 - recall_m: 0.9304\n",
      "Epoch 22/100\n",
      "39582/39582 [==============================] - 46s 1ms/step - loss: 0.1267 - accuracy: 0.9500 - f1_m: 0.9421 - precision_m: 0.9664 - recall_m: 0.9306\n",
      "Epoch 23/100\n",
      "39582/39582 [==============================] - 46s 1ms/step - loss: 0.1263 - accuracy: 0.9504 - f1_m: 0.9422 - precision_m: 0.9664 - recall_m: 0.9308\n",
      "Epoch 24/100\n",
      "39582/39582 [==============================] - 46s 1ms/step - loss: 0.1256 - accuracy: 0.9505 - f1_m: 0.9426 - precision_m: 0.9662 - recall_m: 0.9317\n",
      "Epoch 25/100\n",
      "39582/39582 [==============================] - 48s 1ms/step - loss: 0.1244 - accuracy: 0.9508 - f1_m: 0.9433 - precision_m: 0.9663 - recall_m: 0.9328\n",
      "Epoch 26/100\n",
      "39582/39582 [==============================] - 47s 1ms/step - loss: 0.1244 - accuracy: 0.9512 - f1_m: 0.9432 - precision_m: 0.9652 - recall_m: 0.9337\n",
      "Epoch 27/100\n",
      "39582/39582 [==============================] - 45s 1ms/step - loss: 0.1240 - accuracy: 0.9513 - f1_m: 0.9440 - precision_m: 0.9662 - recall_m: 0.9338\n",
      "Epoch 28/100\n",
      "39582/39582 [==============================] - 45s 1ms/step - loss: 0.1239 - accuracy: 0.9515 - f1_m: 0.9435 - precision_m: 0.9663 - recall_m: 0.9331\n",
      "Epoch 29/100\n",
      "39582/39582 [==============================] - 46s 1ms/step - loss: 0.1234 - accuracy: 0.9516 - f1_m: 0.9439 - precision_m: 0.9660 - recall_m: 0.9340\n",
      "Epoch 30/100\n",
      "39582/39582 [==============================] - 45s 1ms/step - loss: 0.1230 - accuracy: 0.9517 - f1_m: 0.9438 - precision_m: 0.9662 - recall_m: 0.9336\n",
      "Epoch 31/100\n",
      "39582/39582 [==============================] - 45s 1ms/step - loss: 0.1226 - accuracy: 0.9519 - f1_m: 0.9439 - precision_m: 0.9665 - recall_m: 0.9337\n",
      "Epoch 32/100\n",
      "39582/39582 [==============================] - 45s 1ms/step - loss: 0.1227 - accuracy: 0.9522 - f1_m: 0.9447 - precision_m: 0.9675 - recall_m: 0.9342\n",
      "Epoch 33/100\n",
      "39582/39582 [==============================] - 45s 1ms/step - loss: 0.1225 - accuracy: 0.9520 - f1_m: 0.9442 - precision_m: 0.9663 - recall_m: 0.9345\n",
      "12370/12370 [==============================] - 12s 943us/step - loss: 0.1216 - accuracy: 0.9521 - f1_m: 0.9493 - precision_m: 0.9745 - recall_m: 0.9284\n"
     ]
    },
    {
     "ename": "TypeError",
     "evalue": "must be real number, not list",
     "output_type": "error",
     "traceback": [
      "\u001b[1;31m---------------------------------------------------------------------------\u001b[0m",
      "\u001b[1;31mTypeError\u001b[0m                                 Traceback (most recent call last)",
      "Cell \u001b[1;32mIn[15], line 3\u001b[0m\n\u001b[0;32m      1\u001b[0m model\u001b[38;5;241m.\u001b[39mcompile(loss \u001b[38;5;241m=\u001b[39m \u001b[38;5;124m'\u001b[39m\u001b[38;5;124mbinary_crossentropy\u001b[39m\u001b[38;5;124m'\u001b[39m, optimizer \u001b[38;5;241m=\u001b[39m \u001b[38;5;124m'\u001b[39m\u001b[38;5;124madam\u001b[39m\u001b[38;5;124m'\u001b[39m, metrics \u001b[38;5;241m=\u001b[39m [\u001b[38;5;124m'\u001b[39m\u001b[38;5;124maccuracy\u001b[39m\u001b[38;5;124m'\u001b[39m, f1_m, precision_m, recall_m])\n\u001b[0;32m      2\u001b[0m history \u001b[38;5;241m=\u001b[39m model\u001b[38;5;241m.\u001b[39mfit(X_trn, y_train, epochs \u001b[38;5;241m=\u001b[39m \u001b[38;5;241m100\u001b[39m, batch_size \u001b[38;5;241m=\u001b[39m \u001b[38;5;241m10\u001b[39m, callbacks \u001b[38;5;241m=\u001b[39m [es])\n\u001b[1;32m----> 3\u001b[0m \u001b[38;5;28mprint\u001b[39m(\u001b[38;5;124;43m'\u001b[39;49m\u001b[38;5;130;43;01m\\n\u001b[39;49;00m\u001b[38;5;124;43m Accraucy: \u001b[39;49m\u001b[38;5;132;43;01m%.2f\u001b[39;49;00m\u001b[38;5;124;43m'\u001b[39;49m\u001b[43m \u001b[49m\u001b[38;5;241;43m%\u001b[39;49m\u001b[43m(\u001b[49m\u001b[43mmodel\u001b[49m\u001b[38;5;241;43m.\u001b[39;49m\u001b[43mevaluate\u001b[49m\u001b[43m(\u001b[49m\u001b[43mX_trn\u001b[49m\u001b[43m,\u001b[49m\u001b[43m \u001b[49m\u001b[43my_train\u001b[49m\u001b[43m)\u001b[49m\u001b[43m)\u001b[49m)\n",
      "\u001b[1;31mTypeError\u001b[0m: must be real number, not list"
     ]
    }
   ],
   "source": [
    "model.compile(loss = 'binary_crossentropy', optimizer = 'adam', metrics = ['accuracy', f1_m, precision_m, recall_m])\n",
    "history = model.fit(X_trn, y_train, epochs = 100, batch_size = 10, callbacks = [es])\n",
    "print('\\n Accraucy: %.2f' %(model.evaluate(X_trn, y_train)))"
   ]
  },
  {
   "cell_type": "code",
   "execution_count": 16,
   "metadata": {},
   "outputs": [
    {
     "name": "stdout",
     "output_type": "stream",
     "text": [
      "12370/12370 [==============================] - 12s 974us/step - loss: 0.1216 - accuracy: 0.9521 - f1_m: 0.9493 - precision_m: 0.9745 - recall_m: 0.9284\n",
      "Loss: 0.1216\n",
      "Accuracy: 95.21%\n",
      "F1 Score: 0.9493\n"
     ]
    }
   ],
   "source": [
    "loss, acc, f1, precision, recall = model.evaluate(X_trn, y_train)\n",
    "print(f'Loss: {loss:.4f}')\n",
    "print(f'Accuracy: {acc*100:.2f}%')\n",
    "print(f'F1 Score: {f1:.4f}')"
   ]
  },
  {
   "cell_type": "code",
   "execution_count": null,
   "metadata": {},
   "outputs": [],
   "source": []
  }
 ],
 "metadata": {
  "kernelspec": {
   "display_name": "wassup",
   "language": "python",
   "name": "python3"
  },
  "language_info": {
   "codemirror_mode": {
    "name": "ipython",
    "version": 3
   },
   "file_extension": ".py",
   "mimetype": "text/x-python",
   "name": "python",
   "nbconvert_exporter": "python",
   "pygments_lexer": "ipython3",
   "version": "3.11.7"
  }
 },
 "nbformat": 4,
 "nbformat_minor": 2
}
