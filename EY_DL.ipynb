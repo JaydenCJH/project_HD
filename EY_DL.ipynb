{
 "cells": [
  {
   "cell_type": "code",
   "execution_count": 17,
   "metadata": {},
   "outputs": [],
   "source": [
    "import numpy as np\n",
    "import seaborn as sns\n",
    "import pandas as pd\n",
    "pd.set_option('display.max_columns', 50)\n",
    "\n",
    "import matplotlib.pyplot as plt"
   ]
  },
  {
   "cell_type": "code",
   "execution_count": 2,
   "metadata": {},
   "outputs": [
    {
     "name": "stdout",
     "output_type": "stream",
     "text": [
      "Original data: 274034\n",
      "Remove Outlier data: 261812\n"
     ]
    }
   ],
   "source": [
    "data = pd.read_csv('heart_num_0228.csv')\n",
    "Q1 = data[['SleepHours', 'BMI']].quantile(q = 0.25)\n",
    "Q3 = data[['SleepHours', 'BMI']].quantile(q = 0.75)\n",
    "IQR = Q3-Q1\n",
    "data_iqr = data[(data['SleepHours'] <= Q3['SleepHours']+IQR['SleepHours']*1.5)&(data['SleepHours'] >= Q1['SleepHours']-IQR['SleepHours']*1.5)]\n",
    "data_iqr = data_iqr[(data_iqr['BMI'] <= Q3['BMI']+IQR['BMI']*1.5)&(data_iqr['BMI'] >= Q1['BMI']-IQR['BMI']*1.5)]\n",
    "print('Original data:', len(data))\n",
    "print('Remove Outlier data:', len(data_iqr))"
   ]
  },
  {
   "cell_type": "code",
   "execution_count": 3,
   "metadata": {},
   "outputs": [],
   "source": [
    "X = data_iqr.drop('HadHeartAttack', axis = 1)\n",
    "y = data_iqr['HadHeartAttack']"
   ]
  },
  {
   "cell_type": "code",
   "execution_count": 4,
   "metadata": {},
   "outputs": [],
   "source": [
    "from imblearn.over_sampling import SMOTE"
   ]
  },
  {
   "cell_type": "code",
   "execution_count": 5,
   "metadata": {},
   "outputs": [
    {
     "name": "stdout",
     "output_type": "stream",
     "text": [
      "Original Data: 261812\n",
      "Resampled Data: 494774\n"
     ]
    }
   ],
   "source": [
    "smo = SMOTE(random_state = 1234)\n",
    "X_re, y_re = smo.fit_resample(X, y)\n",
    "print('Original Data:', len(X))\n",
    "print('Resampled Data:', len(X_re))"
   ]
  },
  {
   "cell_type": "code",
   "execution_count": 6,
   "metadata": {},
   "outputs": [],
   "source": [
    "from sklearn.model_selection import train_test_split"
   ]
  },
  {
   "cell_type": "code",
   "execution_count": 7,
   "metadata": {},
   "outputs": [],
   "source": [
    "X_train, X_test, y_train, y_test = train_test_split(X_re, y_re, test_size = 0.2, random_state = 1234)"
   ]
  },
  {
   "cell_type": "code",
   "execution_count": 8,
   "metadata": {},
   "outputs": [],
   "source": [
    "from sklearn.preprocessing import RobustScaler"
   ]
  },
  {
   "cell_type": "code",
   "execution_count": 9,
   "metadata": {},
   "outputs": [],
   "source": [
    "rbs = RobustScaler()\n",
    "X_trn = rbs.fit_transform(X_train)\n",
    "X_tst = rbs.transform(X_test)"
   ]
  },
  {
   "cell_type": "code",
   "execution_count": 10,
   "metadata": {},
   "outputs": [
    {
     "name": "stdout",
     "output_type": "stream",
     "text": [
      "WARNING:tensorflow:From c:\\Users\\god12\\Anaconda3\\envs\\wassup\\Lib\\site-packages\\keras\\src\\losses.py:2976: The name tf.losses.sparse_softmax_cross_entropy is deprecated. Please use tf.compat.v1.losses.sparse_softmax_cross_entropy instead.\n",
      "\n"
     ]
    }
   ],
   "source": [
    "from tensorflow.keras.models import Sequential\n",
    "from tensorflow.keras.layers import Dense\n",
    "from keras.callbacks import EarlyStopping\n",
    "import tensorflow as tf"
   ]
  },
  {
   "cell_type": "code",
   "execution_count": 11,
   "metadata": {},
   "outputs": [
    {
     "name": "stdout",
     "output_type": "stream",
     "text": [
      "(395819, 46)\n"
     ]
    }
   ],
   "source": [
    "print(X_trn.shape)"
   ]
  },
  {
   "cell_type": "code",
   "execution_count": 12,
   "metadata": {},
   "outputs": [],
   "source": [
    "es = EarlyStopping(monitor = 'accuracy')"
   ]
  },
  {
   "cell_type": "code",
   "execution_count": 13,
   "metadata": {},
   "outputs": [
    {
     "name": "stdout",
     "output_type": "stream",
     "text": [
      "WARNING:tensorflow:From c:\\Users\\god12\\Anaconda3\\envs\\wassup\\Lib\\site-packages\\keras\\src\\backend.py:873: The name tf.get_default_graph is deprecated. Please use tf.compat.v1.get_default_graph instead.\n",
      "\n"
     ]
    }
   ],
   "source": [
    "model = Sequential()\n",
    "model.add(Dense(50, input_dim = 46, activation = 'relu'))\n",
    "model.add(Dense(28, activation = 'relu'))\n",
    "model.add(Dense(16, activation = 'relu'))\n",
    "model.add(Dense(8, activation = 'relu'))\n",
    "model.add(Dense(1, activation = 'sigmoid'))"
   ]
  },
  {
   "cell_type": "code",
   "execution_count": 14,
   "metadata": {},
   "outputs": [],
   "source": [
    "from keras import backend as K\n",
    "\n",
    "def recall_m(y_true, y_pred):\n",
    "    true_positives = K.sum(K.round(K.clip(y_true * y_pred, 0, 1)))\n",
    "    possible_positives = K.sum(K.round(K.clip(y_true, 0, 1)))\n",
    "    recall = true_positives / (possible_positives + K.epsilon())\n",
    "    return recall\n",
    "\n",
    "def precision_m(y_true, y_pred):\n",
    "    true_positives = K.sum(K.round(K.clip(y_true * y_pred, 0, 1)))\n",
    "    predicted_positives = K.sum(K.round(K.clip(y_pred, 0, 1)))\n",
    "    precision = true_positives / (predicted_positives + K.epsilon())\n",
    "    return precision\n",
    "\n",
    "def f1_m(y_true, y_pred):\n",
    "    precision = precision_m(y_true, y_pred)\n",
    "    recall = recall_m(y_true, y_pred)\n",
    "    return 2*((precision*recall)/(precision+recall+K.epsilon()))"
   ]
  },
  {
   "cell_type": "code",
   "execution_count": 15,
   "metadata": {},
   "outputs": [
    {
     "name": "stdout",
     "output_type": "stream",
     "text": [
      "WARNING:tensorflow:From c:\\Users\\god12\\Anaconda3\\envs\\wassup\\Lib\\site-packages\\keras\\src\\optimizers\\__init__.py:309: The name tf.train.Optimizer is deprecated. Please use tf.compat.v1.train.Optimizer instead.\n",
      "\n",
      "Epoch 1/100\n",
      "WARNING:tensorflow:From c:\\Users\\god12\\Anaconda3\\envs\\wassup\\Lib\\site-packages\\keras\\src\\utils\\tf_utils.py:492: The name tf.ragged.RaggedTensorValue is deprecated. Please use tf.compat.v1.ragged.RaggedTensorValue instead.\n",
      "\n",
      "WARNING:tensorflow:From c:\\Users\\god12\\Anaconda3\\envs\\wassup\\Lib\\site-packages\\keras\\src\\engine\\base_layer_utils.py:384: The name tf.executing_eagerly_outside_functions is deprecated. Please use tf.compat.v1.executing_eagerly_outside_functions instead.\n",
      "\n",
      "39582/39582 [==============================] - 69s 2ms/step - loss: 0.1862 - accuracy: 0.9228 - f1_m: 0.9108 - precision_m: 0.9414 - recall_m: 0.8998\n",
      "Epoch 2/100\n",
      "39582/39582 [==============================] - 79s 2ms/step - loss: 0.1625 - accuracy: 0.9337 - f1_m: 0.9228 - precision_m: 0.9507 - recall_m: 0.9118\n",
      "Epoch 3/100\n",
      "39582/39582 [==============================] - 97s 2ms/step - loss: 0.1563 - accuracy: 0.9358 - f1_m: 0.9262 - precision_m: 0.9526 - recall_m: 0.9158\n",
      "Epoch 4/100\n",
      "39582/39582 [==============================] - 103s 3ms/step - loss: 0.1508 - accuracy: 0.9385 - f1_m: 0.9288 - precision_m: 0.9565 - recall_m: 0.9168\n",
      "Epoch 5/100\n",
      "39582/39582 [==============================] - 98s 2ms/step - loss: 0.1457 - accuracy: 0.9402 - f1_m: 0.9308 - precision_m: 0.9580 - recall_m: 0.9191\n",
      "Epoch 6/100\n",
      "39582/39582 [==============================] - 95s 2ms/step - loss: 0.1430 - accuracy: 0.9421 - f1_m: 0.9327 - precision_m: 0.9598 - recall_m: 0.9207\n",
      "Epoch 7/100\n",
      "39582/39582 [==============================] - 92s 2ms/step - loss: 0.1412 - accuracy: 0.9427 - f1_m: 0.9332 - precision_m: 0.9609 - recall_m: 0.9206\n",
      "Epoch 8/100\n",
      "39582/39582 [==============================] - 100s 3ms/step - loss: 0.1398 - accuracy: 0.9436 - f1_m: 0.9345 - precision_m: 0.9614 - recall_m: 0.9222\n",
      "Epoch 9/100\n",
      "39582/39582 [==============================] - 91s 2ms/step - loss: 0.1385 - accuracy: 0.9441 - f1_m: 0.9354 - precision_m: 0.9623 - recall_m: 0.9229\n",
      "Epoch 10/100\n",
      "39582/39582 [==============================] - 102s 3ms/step - loss: 0.1371 - accuracy: 0.9446 - f1_m: 0.9350 - precision_m: 0.9619 - recall_m: 0.9226\n",
      "Epoch 11/100\n",
      "39582/39582 [==============================] - 90s 2ms/step - loss: 0.1361 - accuracy: 0.9453 - f1_m: 0.9362 - precision_m: 0.9619 - recall_m: 0.9245\n",
      "Epoch 12/100\n",
      "39582/39582 [==============================] - 104s 3ms/step - loss: 0.1354 - accuracy: 0.9454 - f1_m: 0.9365 - precision_m: 0.9627 - recall_m: 0.9242\n",
      "Epoch 13/100\n",
      "39582/39582 [==============================] - 88s 2ms/step - loss: 0.1346 - accuracy: 0.9461 - f1_m: 0.9374 - precision_m: 0.9635 - recall_m: 0.9252\n",
      "Epoch 14/100\n",
      "39582/39582 [==============================] - 104s 3ms/step - loss: 0.1339 - accuracy: 0.9462 - f1_m: 0.9374 - precision_m: 0.9626 - recall_m: 0.9261\n",
      "Epoch 15/100\n",
      "39582/39582 [==============================] - 91s 2ms/step - loss: 0.1336 - accuracy: 0.9462 - f1_m: 0.9376 - precision_m: 0.9628 - recall_m: 0.9262\n"
     ]
    }
   ],
   "source": [
    "model.compile(loss = 'binary_crossentropy', optimizer = 'adam', metrics = ['accuracy', f1_m, precision_m, recall_m])\n",
    "history = model.fit(X_trn, y_train, epochs = 100, batch_size = 10, callbacks = [es])"
   ]
  },
  {
   "cell_type": "code",
   "execution_count": 16,
   "metadata": {},
   "outputs": [
    {
     "name": "stdout",
     "output_type": "stream",
     "text": [
      "12370/12370 [==============================] - 15s 1ms/step - loss: 0.1309 - accuracy: 0.9475 - f1_m: 0.9443 - precision_m: 0.9725 - recall_m: 0.9211\n",
      "Loss: 0.1309\n",
      "Accuracy: 94.75%\n",
      "F1 Score: 0.9443\n"
     ]
    }
   ],
   "source": [
    "loss, acc, f1, precision, recall = model.evaluate(X_trn, y_train)\n",
    "print(f'Loss: {loss:.4f}')\n",
    "print(f'Accuracy: {acc*100:.2f}%')\n",
    "print(f'F1 Score: {f1:.4f}')"
   ]
  },
  {
   "cell_type": "code",
   "execution_count": 18,
   "metadata": {},
   "outputs": [],
   "source": [
    "y_loss = history.history['loss']\n",
    "y_acc = history.history['accuracy']\n",
    "y_f1 = history.history['f1_m']"
   ]
  },
  {
   "cell_type": "code",
   "execution_count": 19,
   "metadata": {},
   "outputs": [
    {
     "data": {
      "image/png": "[encoded data removed]",
      "text/plain": [
       "<Figure size 640x480 with 1 Axes>"
      ]
     },
     "metadata": {},
     "output_type": "display_data"
    }
   ],
   "source": [
    "x_len = np.arange(len(y_acc))\n",
    "\n",
    "plt.plot(x_len, y_loss,  c = 'red', markersize = 3)\n",
    "plt.plot(x_len, y_acc, c = 'blue', markersize = 3)\n",
    "plt.plot(x_len, y_f1, c = 'green', markersize = 3)\n",
    "plt.show()"
   ]
  },
  {
   "cell_type": "code",
   "execution_count": null,
   "metadata": {},
   "outputs": [],
   "source": []
  }
 ],
 "metadata": {
  "kernelspec": {
   "display_name": "wassup",
   "language": "python",
   "name": "python3"
  },
  "language_info": {
   "codemirror_mode": {
    "name": "ipython",
    "version": 3
   },
   "file_extension": ".py",
   "mimetype": "text/x-python",
   "name": "python",
   "nbconvert_exporter": "python",
   "pygments_lexer": "ipython3",
   "version": "3.11.7"
  }
 },
 "nbformat": 4,
 "nbformat_minor": 2
}
