{
 "cells": [
  {
   "cell_type": "code",
   "execution_count": 1,
   "metadata": {},
   "outputs": [],
   "source": [
    "import numpy as np\n",
    "import pandas as pd\n",
    "pd.set_option('display.max_columns', 50)\n",
    "\n",
    "import matplotlib.pyplot as plt"
   ]
  },
  {
   "cell_type": "code",
   "execution_count": 2,
   "metadata": {},
   "outputs": [
    {
     "data": {
      "text/plain": [
       "Index(['State', 'Sex', 'GeneralHealth', 'PhysicalHealthDays',\n",
       "       'MentalHealthDays', 'LastCheckupTime', 'PhysicalActivities',\n",
       "       'SleepHours', 'RemovedTeeth', 'HadHeartAttack', 'HadAngina',\n",
       "       'HadStroke', 'HadAsthma', 'HadSkinCancer', 'HadCOPD',\n",
       "       'HadDepressiveDisorder', 'HadKidneyDisease', 'HadArthritis',\n",
       "       'HadDiabetes', 'DeafOrHardOfHearing', 'BlindOrVisionDifficulty',\n",
       "       'DifficultyConcentrating', 'DifficultyWalking',\n",
       "       'DifficultyDressingBathing', 'DifficultyErrands', 'SmokerStatus',\n",
       "       'ECigaretteUsage', 'ChestScan', 'AgeCategory', 'HeightInMeters',\n",
       "       'WeightInKilograms', 'BMI', 'AlcoholDrinkers', 'HIVTesting',\n",
       "       'FluVaxLast12', 'PneumoVaxEver', 'HighRiskLastYear', 'CovidPos',\n",
       "       'RaceEthnicityCategory_Black only, Non-Hispanic',\n",
       "       'RaceEthnicityCategory_Hispanic',\n",
       "       'RaceEthnicityCategory_Multiracial, Non-Hispanic',\n",
       "       'RaceEthnicityCategory_Other race only, Non-Hispanic',\n",
       "       'RaceEthnicityCategory_White only, Non-Hispanic',\n",
       "       'TetanusLast10Tdap_No, did not receive any tetanus shot in the past 10 years',\n",
       "       'TetanusLast10Tdap_Yes, received Tdap',\n",
       "       'TetanusLast10Tdap_Yes, received tetanus shot but not sure what type',\n",
       "       'TetanusLast10Tdap_Yes, received tetanus shot, but not Tdap'],\n",
       "      dtype='object')"
      ]
     },
     "execution_count": 2,
     "metadata": {},
     "output_type": "execute_result"
    }
   ],
   "source": [
    "data = pd.read_csv('heart_num_0228.csv')\n",
    "data.columns"
   ]
  },
  {
   "cell_type": "code",
   "execution_count": 3,
   "metadata": {},
   "outputs": [
    {
     "name": "stdout",
     "output_type": "stream",
     "text": [
      "Original data: 274034\n",
      "Remove Outlier data: 261812\n"
     ]
    }
   ],
   "source": [
    "Q1 = data[['SleepHours', 'BMI']].quantile(q = 0.25)\n",
    "Q3 = data[['SleepHours', 'BMI']].quantile(q = 0.75)\n",
    "IQR = Q3-Q1\n",
    "data_iqr = data[(data['SleepHours'] <= Q3['SleepHours']+IQR['SleepHours']*1.5)&(data['SleepHours'] >= Q1['SleepHours']-IQR['SleepHours']*1.5)]\n",
    "data_iqr = data_iqr[(data_iqr['BMI'] <= Q3['BMI']+IQR['BMI']*1.5)&(data_iqr['BMI'] >= Q1['BMI']-IQR['BMI']*1.5)]\n",
    "print('Original data:', len(data))\n",
    "print('Remove Outlier data:', len(data_iqr))"
   ]
  },
  {
   "cell_type": "code",
   "execution_count": 4,
   "metadata": {},
   "outputs": [],
   "source": [
    "X = data_iqr.drop(['HadHeartAttack'], axis = 1)\n",
    "y = data_iqr['HadHeartAttack']"
   ]
  },
  {
   "cell_type": "code",
   "execution_count": 5,
   "metadata": {},
   "outputs": [],
   "source": [
    "from imblearn.over_sampling import SMOTE"
   ]
  },
  {
   "cell_type": "code",
   "execution_count": 6,
   "metadata": {},
   "outputs": [
    {
     "name": "stdout",
     "output_type": "stream",
     "text": [
      "Original Data: 261812\n",
      "Resampled Data: 494774\n"
     ]
    }
   ],
   "source": [
    "smo = SMOTE(random_state = 1234)\n",
    "X_re, y_re = smo.fit_resample(X, y)\n",
    "print('Original Data:', len(X))\n",
    "print('Resampled Data:', len(X_re))"
   ]
  },
  {
   "cell_type": "code",
   "execution_count": 7,
   "metadata": {},
   "outputs": [],
   "source": [
    "from sklearn.model_selection import train_test_split"
   ]
  },
  {
   "cell_type": "code",
   "execution_count": 11,
   "metadata": {},
   "outputs": [],
   "source": [
    "X_train, X_test, y_train, y_test = train_test_split(X_re, y_re, test_size = 0.2, random_state = 1234)"
   ]
  },
  {
   "cell_type": "code",
   "execution_count": 8,
   "metadata": {},
   "outputs": [],
   "source": [
    "from sklearn.preprocessing import RobustScaler"
   ]
  },
  {
   "cell_type": "code",
   "execution_count": 12,
   "metadata": {},
   "outputs": [],
   "source": [
    "rbs = RobustScaler()\n",
    "X_trn = rbs.fit_transform(X_train)\n",
    "X_tst = rbs.transform(X_test)"
   ]
  },
  {
   "cell_type": "code",
   "execution_count": 10,
   "metadata": {},
   "outputs": [
    {
     "name": "stdout",
     "output_type": "stream",
     "text": [
      "WARNING:tensorflow:From c:\\Users\\god12\\Anaconda3\\envs\\wassup\\Lib\\site-packages\\keras\\src\\losses.py:2976: The name tf.losses.sparse_softmax_cross_entropy is deprecated. Please use tf.compat.v1.losses.sparse_softmax_cross_entropy instead.\n",
      "\n"
     ]
    }
   ],
   "source": [
    "from tensorflow.keras.models import Sequential\n",
    "from tensorflow.keras.layers import Dense\n",
    "from keras.callbacks import EarlyStopping"
   ]
  },
  {
   "cell_type": "code",
   "execution_count": 13,
   "metadata": {},
   "outputs": [],
   "source": [
    "from keras import backend as K\n",
    "\n",
    "def recall_m(y_true, y_pred):\n",
    "    true_positives = K.sum(K.round(K.clip(y_true * y_pred, 0, 1)))\n",
    "    possible_positives = K.sum(K.round(K.clip(y_true, 0, 1)))\n",
    "    recall = true_positives / (possible_positives + K.epsilon())\n",
    "    return recall\n",
    "\n",
    "def precision_m(y_true, y_pred):\n",
    "    true_positives = K.sum(K.round(K.clip(y_true * y_pred, 0, 1)))\n",
    "    predicted_positives = K.sum(K.round(K.clip(y_pred, 0, 1)))\n",
    "    precision = true_positives / (predicted_positives + K.epsilon())\n",
    "    return precision\n",
    "\n",
    "def f1_m(y_true, y_pred):\n",
    "    precision = precision_m(y_true, y_pred)\n",
    "    recall = recall_m(y_true, y_pred)\n",
    "    return 2*((precision*recall)/(precision+recall+K.epsilon()))"
   ]
  },
  {
   "cell_type": "code",
   "execution_count": 14,
   "metadata": {},
   "outputs": [
    {
     "name": "stdout",
     "output_type": "stream",
     "text": [
      "(395819, 46)\n"
     ]
    }
   ],
   "source": [
    "print(X_trn.shape)"
   ]
  },
  {
   "cell_type": "code",
   "execution_count": 15,
   "metadata": {},
   "outputs": [
    {
     "name": "stdout",
     "output_type": "stream",
     "text": [
      "WARNING:tensorflow:From c:\\Users\\god12\\Anaconda3\\envs\\wassup\\Lib\\site-packages\\keras\\src\\backend.py:873: The name tf.get_default_graph is deprecated. Please use tf.compat.v1.get_default_graph instead.\n",
      "\n",
      "WARNING:tensorflow:From c:\\Users\\god12\\Anaconda3\\envs\\wassup\\Lib\\site-packages\\keras\\src\\optimizers\\__init__.py:309: The name tf.train.Optimizer is deprecated. Please use tf.compat.v1.train.Optimizer instead.\n",
      "\n",
      "Epoch 1/100\n",
      "WARNING:tensorflow:From c:\\Users\\god12\\Anaconda3\\envs\\wassup\\Lib\\site-packages\\keras\\src\\utils\\tf_utils.py:492: The name tf.ragged.RaggedTensorValue is deprecated. Please use tf.compat.v1.ragged.RaggedTensorValue instead.\n",
      "\n",
      "WARNING:tensorflow:From c:\\Users\\god12\\Anaconda3\\envs\\wassup\\Lib\\site-packages\\keras\\src\\engine\\base_layer_utils.py:384: The name tf.executing_eagerly_outside_functions is deprecated. Please use tf.compat.v1.executing_eagerly_outside_functions instead.\n",
      "\n",
      "39582/39582 [==============================] - 151s 4ms/step - loss: 0.1850 - accuracy: 0.9231 - f1_m: 0.9109 - precision_m: 0.9410 - recall_m: 0.9002\n",
      "Epoch 2/100\n",
      "39582/39582 [==============================] - 133s 3ms/step - loss: 0.1620 - accuracy: 0.9335 - f1_m: 0.9229 - precision_m: 0.9511 - recall_m: 0.9115\n",
      "Epoch 3/100\n",
      "39582/39582 [==============================] - 158s 4ms/step - loss: 0.1554 - accuracy: 0.9363 - f1_m: 0.9263 - precision_m: 0.9538 - recall_m: 0.9149\n",
      "Epoch 4/100\n",
      "39582/39582 [==============================] - 148s 4ms/step - loss: 0.1483 - accuracy: 0.9395 - f1_m: 0.9302 - precision_m: 0.9575 - recall_m: 0.9185\n",
      "Epoch 5/100\n",
      "39582/39582 [==============================] - 103s 3ms/step - loss: 0.1444 - accuracy: 0.9411 - f1_m: 0.9313 - precision_m: 0.9594 - recall_m: 0.9184\n",
      "Epoch 6/100\n",
      "39582/39582 [==============================] - 121s 3ms/step - loss: 0.1423 - accuracy: 0.9423 - f1_m: 0.9329 - precision_m: 0.9600 - recall_m: 0.9206\n",
      "Epoch 7/100\n",
      "39582/39582 [==============================] - 147s 4ms/step - loss: 0.1407 - accuracy: 0.9430 - f1_m: 0.9341 - precision_m: 0.9599 - recall_m: 0.9229\n",
      "Epoch 8/100\n",
      "39582/39582 [==============================] - 150s 4ms/step - loss: 0.1392 - accuracy: 0.9437 - f1_m: 0.9344 - precision_m: 0.9602 - recall_m: 0.9232\n",
      "Epoch 9/100\n",
      "39582/39582 [==============================] - 136s 3ms/step - loss: 0.1380 - accuracy: 0.9442 - f1_m: 0.9353 - precision_m: 0.9609 - recall_m: 0.9239\n",
      "Epoch 10/100\n",
      "39582/39582 [==============================] - 121s 3ms/step - loss: 0.1371 - accuracy: 0.9445 - f1_m: 0.9354 - precision_m: 0.9609 - recall_m: 0.9240\n",
      "Epoch 11/100\n",
      "39582/39582 [==============================] - 110s 3ms/step - loss: 0.1367 - accuracy: 0.9449 - f1_m: 0.9362 - precision_m: 0.9611 - recall_m: 0.9254\n",
      "Epoch 12/100\n",
      "39582/39582 [==============================] - 131s 3ms/step - loss: 0.1356 - accuracy: 0.9452 - f1_m: 0.9363 - precision_m: 0.9605 - recall_m: 0.9258\n",
      "Epoch 13/100\n",
      "39582/39582 [==============================] - 115s 3ms/step - loss: 0.1351 - accuracy: 0.9458 - f1_m: 0.9371 - precision_m: 0.9607 - recall_m: 0.9271\n",
      "Epoch 14/100\n",
      "39582/39582 [==============================] - 108s 3ms/step - loss: 0.1343 - accuracy: 0.9460 - f1_m: 0.9376 - precision_m: 0.9617 - recall_m: 0.9273\n",
      "Epoch 15/100\n",
      "39582/39582 [==============================] - 103s 3ms/step - loss: 0.1339 - accuracy: 0.9462 - f1_m: 0.9377 - precision_m: 0.9611 - recall_m: 0.9279\n",
      "Epoch 16/100\n",
      "39582/39582 [==============================] - 136s 3ms/step - loss: 0.1331 - accuracy: 0.9464 - f1_m: 0.9385 - precision_m: 0.9617 - recall_m: 0.9288\n",
      "Epoch 17/100\n",
      "39582/39582 [==============================] - 116s 3ms/step - loss: 0.1328 - accuracy: 0.9466 - f1_m: 0.9380 - precision_m: 0.9610 - recall_m: 0.9285\n",
      "Epoch 18/100\n",
      "39582/39582 [==============================] - 101s 3ms/step - loss: 0.1322 - accuracy: 0.9469 - f1_m: 0.9380 - precision_m: 0.9627 - recall_m: 0.9271\n",
      "Epoch 19/100\n",
      "39582/39582 [==============================] - 152s 4ms/step - loss: 0.1318 - accuracy: 0.9470 - f1_m: 0.9384 - precision_m: 0.9626 - recall_m: 0.9277\n",
      "Epoch 20/100\n",
      "39582/39582 [==============================] - 154s 4ms/step - loss: 0.1315 - accuracy: 0.9473 - f1_m: 0.9389 - precision_m: 0.9635 - recall_m: 0.9278\n",
      "Epoch 21/100\n",
      "39582/39582 [==============================] - 143s 4ms/step - loss: 0.1312 - accuracy: 0.9474 - f1_m: 0.9389 - precision_m: 0.9616 - recall_m: 0.9297\n",
      "Epoch 22/100\n",
      "39582/39582 [==============================] - 153s 4ms/step - loss: 0.1303 - accuracy: 0.9478 - f1_m: 0.9396 - precision_m: 0.9642 - recall_m: 0.9284\n",
      "Epoch 23/100\n",
      "39582/39582 [==============================] - 126s 3ms/step - loss: 0.1301 - accuracy: 0.9478 - f1_m: 0.9396 - precision_m: 0.9630 - recall_m: 0.9294\n",
      "Epoch 24/100\n",
      "39582/39582 [==============================] - 97s 2ms/step - loss: 0.1299 - accuracy: 0.9480 - f1_m: 0.9394 - precision_m: 0.9636 - recall_m: 0.9284\n",
      "Epoch 25/100\n",
      "39582/39582 [==============================] - 122s 3ms/step - loss: 0.1295 - accuracy: 0.9482 - f1_m: 0.9403 - precision_m: 0.9642 - recall_m: 0.9296\n",
      "Epoch 26/100\n",
      "39582/39582 [==============================] - 121s 3ms/step - loss: 0.1290 - accuracy: 0.9482 - f1_m: 0.9399 - precision_m: 0.9631 - recall_m: 0.9299\n"
     ]
    }
   ],
   "source": [
    "es = EarlyStopping(monitor = 'accuracy')\n",
    "\n",
    "model = Sequential()\n",
    "model.add(Dense(50, input_dim = 46, activation = 'relu'))\n",
    "model.add(Dense(28, activation = 'relu'))\n",
    "model.add(Dense(16, activation = 'relu'))\n",
    "model.add(Dense(8, activation = 'relu'))\n",
    "model.add(Dense(1, activation = 'sigmoid'))\n",
    "\n",
    "model.compile(loss = 'binary_crossentropy', optimizer = 'adam', metrics = ['accuracy', f1_m, precision_m, recall_m])\n",
    "history = model.fit(X_trn, y_train, epochs = 100, batch_size = 10, callbacks = [es])"
   ]
  },
  {
   "cell_type": "code",
   "execution_count": 16,
   "metadata": {},
   "outputs": [
    {
     "name": "stdout",
     "output_type": "stream",
     "text": [
      "12370/12370 [==============================] - 28s 2ms/step - loss: 0.1306 - accuracy: 0.9492 - f1_m: 0.9465 - precision_m: 0.9667 - recall_m: 0.9303\n",
      "Loss: 0.1306\n",
      "Accuracy: 94.92%\n",
      "F1 Score: 0.9465\n"
     ]
    }
   ],
   "source": [
    "loss, acc, f1, precision, recall = model.evaluate(X_trn, y_train)\n",
    "print(f'Loss: {loss:.4f}')\n",
    "print(f'Accuracy: {acc*100:.2f}%')\n",
    "print(f'F1 Score: {f1:.4f}')"
   ]
  },
  {
   "cell_type": "code",
   "execution_count": 17,
   "metadata": {},
   "outputs": [],
   "source": [
    "y_loss = history.history['loss']\n",
    "y_acc = history.history['accuracy']\n",
    "y_f1 = history.history['f1_m']"
   ]
  },
  {
   "cell_type": "code",
   "execution_count": 18,
   "metadata": {},
   "outputs": [
    {
     "data": {
      "image/png": "[encoded data removed]",
      "text/plain": [
       "<Figure size 640x480 with 1 Axes>"
      ]
     },
     "metadata": {},
     "output_type": "display_data"
    }
   ],
   "source": [
    "x_len = np.arange(len(y_acc))\n",
    "\n",
    "plt.plot(x_len, y_loss,  c = 'red', markersize = 3)\n",
    "plt.plot(x_len, y_acc, c = 'blue', markersize = 3)\n",
    "plt.plot(x_len, y_f1, c = 'green', markersize = 3)\n",
    "plt.show()"
   ]
  },
  {
   "cell_type": "code",
   "execution_count": null,
   "metadata": {},
   "outputs": [],
   "source": []
  }
 ],
 "metadata": {
  "kernelspec": {
   "display_name": "wassup",
   "language": "python",
   "name": "python3"
  },
  "language_info": {
   "codemirror_mode": {
    "name": "ipython",
    "version": 3
   },
   "file_extension": ".py",
   "mimetype": "text/x-python",
   "name": "python",
   "nbconvert_exporter": "python",
   "pygments_lexer": "ipython3",
   "version": "3.11.7"
  }
 },
 "nbformat": 4,
 "nbformat_minor": 2
}
