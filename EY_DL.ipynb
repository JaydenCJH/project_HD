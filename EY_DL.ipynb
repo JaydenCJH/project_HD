{
 "cells": [
  {
   "cell_type": "code",
   "execution_count": 1,
   "metadata": {},
   "outputs": [],
   "source": [
    "import numpy as np\n",
    "import seaborn as sns\n",
    "import pandas as pd\n",
    "pd.set_option('display.max_columns', 50)"
   ]
  },
  {
   "cell_type": "code",
   "execution_count": 2,
   "metadata": {},
   "outputs": [
    {
     "name": "stdout",
     "output_type": "stream",
     "text": [
      "Original data: 274034\n",
      "Remove Outlier data: 261812\n"
     ]
    }
   ],
   "source": [
    "data = pd.read_csv('heart_num_0228.csv')\n",
    "Q1 = data[['SleepHours', 'BMI']].quantile(q = 0.25)\n",
    "Q3 = data[['SleepHours', 'BMI']].quantile(q = 0.75)\n",
    "IQR = Q3-Q1\n",
    "data_iqr = data[(data['SleepHours'] <= Q3['SleepHours']+IQR['SleepHours']*1.5)&(data['SleepHours'] >= Q1['SleepHours']-IQR['SleepHours']*1.5)]\n",
    "data_iqr = data_iqr[(data_iqr['BMI'] <= Q3['BMI']+IQR['BMI']*1.5)&(data_iqr['BMI'] >= Q1['BMI']-IQR['BMI']*1.5)]\n",
    "print('Original data:', len(data))\n",
    "print('Remove Outlier data:', len(data_iqr))"
   ]
  },
  {
   "cell_type": "code",
   "execution_count": 3,
   "metadata": {},
   "outputs": [],
   "source": [
    "X = data_iqr.drop('HadHeartAttack', axis = 1)\n",
    "y = data_iqr['HadHeartAttack']"
   ]
  },
  {
   "cell_type": "code",
   "execution_count": 5,
   "metadata": {},
   "outputs": [],
   "source": [
    "from imblearn.over_sampling import SMOTE"
   ]
  },
  {
   "cell_type": "code",
   "execution_count": 6,
   "metadata": {},
   "outputs": [
    {
     "name": "stdout",
     "output_type": "stream",
     "text": [
      "Original Data: 261812\n",
      "Resampled Data: 494774\n"
     ]
    }
   ],
   "source": [
    "smo = SMOTE(random_state = 1234)\n",
    "X_re, y_re = smo.fit_resample(X, y)\n",
    "print('Original Data:', len(X))\n",
    "print('Resampled Data:', len(X_re))"
   ]
  },
  {
   "cell_type": "code",
   "execution_count": 8,
   "metadata": {},
   "outputs": [],
   "source": [
    "from sklearn.model_selection import train_test_split"
   ]
  },
  {
   "cell_type": "code",
   "execution_count": 9,
   "metadata": {},
   "outputs": [],
   "source": [
    "X_train, X_test, y_train, y_test = train_test_split(X_re, y_re, test_size = 0.2, random_state = 1234)"
   ]
  },
  {
   "cell_type": "code",
   "execution_count": 10,
   "metadata": {},
   "outputs": [],
   "source": [
    "from sklearn.preprocessing import RobustScaler"
   ]
  },
  {
   "cell_type": "code",
   "execution_count": 11,
   "metadata": {},
   "outputs": [],
   "source": [
    "rbs = RobustScaler()\n",
    "X_trn = rbs.fit_transform(X_train)\n",
    "X_tst = rbs.transform(X_test)"
   ]
  },
  {
   "cell_type": "code",
   "execution_count": 17,
   "metadata": {},
   "outputs": [],
   "source": [
    "from tensorflow.keras.models import Sequential\n",
    "from tensorflow.keras.layers import Dense\n",
    "from keras.callbacks import EarlyStopping\n",
    "import tensorflow as tf"
   ]
  },
  {
   "cell_type": "code",
   "execution_count": 13,
   "metadata": {},
   "outputs": [
    {
     "name": "stdout",
     "output_type": "stream",
     "text": [
      "(395819, 46)\n"
     ]
    }
   ],
   "source": [
    "print(X_trn.shape)"
   ]
  },
  {
   "cell_type": "code",
   "execution_count": 23,
   "metadata": {},
   "outputs": [],
   "source": [
    "es = EarlyStopping(monitor = 'accuracy')"
   ]
  },
  {
   "cell_type": "code",
   "execution_count": 24,
   "metadata": {},
   "outputs": [],
   "source": [
    "model = Sequential()\n",
    "model.add(Dense(50, input_dim = 46, activation = 'relu'))\n",
    "model.add(Dense(28, activation = 'relu'))\n",
    "model.add(Dense(16, activation = 'relu'))\n",
    "model.add(Dense(8, activation = 'relu'))\n",
    "model.add(Dense(1, activation = 'sigmoid'))"
   ]
  },
  {
   "cell_type": "code",
   "execution_count": 31,
   "metadata": {},
   "outputs": [],
   "source": [
    "from keras import backend as K\n",
    "\n",
    "def recall_m(y_true, y_pred):\n",
    "    true_positives = K.sum(K.round(K.clip(y_true * y_pred, 0, 1)))\n",
    "    possible_positives = K.sum(K.round(K.clip(y_true, 0, 1)))\n",
    "    recall = true_positives / (possible_positives + K.epsilon())\n",
    "    return recall\n",
    "\n",
    "def precision_m(y_true, y_pred):\n",
    "    true_positives = K.sum(K.round(K.clip(y_true * y_pred, 0, 1)))\n",
    "    predicted_positives = K.sum(K.round(K.clip(y_pred, 0, 1)))\n",
    "    precision = true_positives / (predicted_positives + K.epsilon())\n",
    "    return precision\n",
    "\n",
    "def f1_m(y_true, y_pred):\n",
    "    precision = precision_m(y_true, y_pred)\n",
    "    recall = recall_m(y_true, y_pred)\n",
    "    return 2*((precision*recall)/(precision+recall+K.epsilon()))"
   ]
  },
  {
   "cell_type": "code",
   "execution_count": 32,
   "metadata": {},
   "outputs": [
    {
     "name": "stdout",
     "output_type": "stream",
     "text": [
      "Epoch 1/100\n",
      "39582/39582 [==============================] - 74s 2ms/step - loss: 0.1500 - accuracy: 0.9388 - f1_m: 0.9294 - precision_m: 0.9561 - recall_m: 0.9182\n",
      "Epoch 2/100\n",
      "39582/39582 [==============================] - 105s 3ms/step - loss: 0.1457 - accuracy: 0.9407 - f1_m: 0.9315 - precision_m: 0.9579 - recall_m: 0.9200\n",
      "Epoch 3/100\n",
      "39582/39582 [==============================] - 111s 3ms/step - loss: 0.1423 - accuracy: 0.9426 - f1_m: 0.9330 - precision_m: 0.9595 - recall_m: 0.9211\n",
      "Epoch 4/100\n",
      "39582/39582 [==============================] - 133s 3ms/step - loss: 0.1392 - accuracy: 0.9438 - f1_m: 0.9347 - precision_m: 0.9602 - recall_m: 0.9235\n",
      "Epoch 5/100\n",
      "39582/39582 [==============================] - 124s 3ms/step - loss: 0.1367 - accuracy: 0.9448 - f1_m: 0.9360 - precision_m: 0.9609 - recall_m: 0.9252\n",
      "Epoch 6/100\n",
      "39582/39582 [==============================] - 112s 3ms/step - loss: 0.1341 - accuracy: 0.9463 - f1_m: 0.9375 - precision_m: 0.9619 - recall_m: 0.9269\n",
      "Epoch 7/100\n",
      "39582/39582 [==============================] - 112s 3ms/step - loss: 0.1321 - accuracy: 0.9474 - f1_m: 0.9391 - precision_m: 0.9640 - recall_m: 0.9278\n",
      "Epoch 8/100\n",
      "39582/39582 [==============================] - 104s 3ms/step - loss: 0.1308 - accuracy: 0.9476 - f1_m: 0.9393 - precision_m: 0.9642 - recall_m: 0.9277\n",
      "Epoch 9/100\n",
      "39582/39582 [==============================] - 62s 2ms/step - loss: 0.1301 - accuracy: 0.9482 - f1_m: 0.9399 - precision_m: 0.9647 - recall_m: 0.9285\n",
      "Epoch 10/100\n",
      "39582/39582 [==============================] - 64s 2ms/step - loss: 0.1289 - accuracy: 0.9488 - f1_m: 0.9411 - precision_m: 0.9645 - recall_m: 0.9306\n",
      "Epoch 11/100\n",
      "39582/39582 [==============================] - 82s 2ms/step - loss: 0.1281 - accuracy: 0.9490 - f1_m: 0.9406 - precision_m: 0.9656 - recall_m: 0.9288\n",
      "Epoch 12/100\n",
      "39582/39582 [==============================] - 76s 2ms/step - loss: 0.1272 - accuracy: 0.9494 - f1_m: 0.9416 - precision_m: 0.9664 - recall_m: 0.9298\n",
      "Epoch 13/100\n",
      "39582/39582 [==============================] - 72s 2ms/step - loss: 0.1267 - accuracy: 0.9493 - f1_m: 0.9406 - precision_m: 0.9654 - recall_m: 0.9292\n",
      "12370/12370 [==============================] - 24s 2ms/step - loss: 0.1261 - accuracy: 0.9497 - f1_m: 0.9466 - precision_m: 0.9731 - recall_m: 0.9247\n"
     ]
    },
    {
     "ename": "TypeError",
     "evalue": "must be real number, not list",
     "output_type": "error",
     "traceback": [
      "\u001b[1;31m---------------------------------------------------------------------------\u001b[0m",
      "\u001b[1;31mTypeError\u001b[0m                                 Traceback (most recent call last)",
      "Cell \u001b[1;32mIn[32], line 3\u001b[0m\n\u001b[0;32m      1\u001b[0m model\u001b[38;5;241m.\u001b[39mcompile(loss \u001b[38;5;241m=\u001b[39m \u001b[38;5;124m'\u001b[39m\u001b[38;5;124mbinary_crossentropy\u001b[39m\u001b[38;5;124m'\u001b[39m, optimizer \u001b[38;5;241m=\u001b[39m \u001b[38;5;124m'\u001b[39m\u001b[38;5;124madam\u001b[39m\u001b[38;5;124m'\u001b[39m, metrics \u001b[38;5;241m=\u001b[39m [\u001b[38;5;124m'\u001b[39m\u001b[38;5;124maccuracy\u001b[39m\u001b[38;5;124m'\u001b[39m, f1_m, precision_m, recall_m])\n\u001b[0;32m      2\u001b[0m history \u001b[38;5;241m=\u001b[39m model\u001b[38;5;241m.\u001b[39mfit(X_trn, y_train, epochs \u001b[38;5;241m=\u001b[39m \u001b[38;5;241m100\u001b[39m, batch_size \u001b[38;5;241m=\u001b[39m \u001b[38;5;241m10\u001b[39m, callbacks \u001b[38;5;241m=\u001b[39m [es])\n\u001b[1;32m----> 3\u001b[0m \u001b[38;5;28mprint\u001b[39m(\u001b[38;5;124m'\u001b[39m\u001b[38;5;130;01m\\n\u001b[39;00m\u001b[38;5;124m Accraucy: \u001b[39m\u001b[38;5;132;01m%.2f\u001b[39;00m\u001b[38;5;124m'\u001b[39m \u001b[38;5;241m%\u001b[39m(model\u001b[38;5;241m.\u001b[39mevaluate(X_trn, y_train)))\n",
      "\u001b[1;31mTypeError\u001b[0m: must be real number, not list"
     ]
    }
   ],
   "source": [
    "model.compile(loss = 'binary_crossentropy', optimizer = 'adam', metrics = ['accuracy', f1_m, precision_m, recall_m])\n",
    "history = model.fit(X_trn, y_train, epochs = 100, batch_size = 10, callbacks = [es])\n",
    "print('\\n Accraucy: %.2f' %(model.evaluate(X_trn, y_train)))"
   ]
  },
  {
   "cell_type": "code",
   "execution_count": 36,
   "metadata": {},
   "outputs": [
    {
     "name": "stdout",
     "output_type": "stream",
     "text": [
      "12370/12370 [==============================] - 15s 1ms/step - loss: 0.1261 - accuracy: 0.9497 - f1_m: 0.9466 - precision_m: 0.9731 - recall_m: 0.9247\n",
      "Loss: 0.1261\n",
      "Accuracy: 94.97%\n",
      "F1 Score: 0.9466\n"
     ]
    }
   ],
   "source": [
    "loss, acc, f1, precision, recall = model.evaluate(X_trn, y_train)\n",
    "print(f'Loss: {loss:.4f}')\n",
    "print(f'Accuracy: {acc*100:.2f}%')\n",
    "print(f'F1 Score: {f1:.4f}')"
   ]
  },
  {
   "cell_type": "code",
   "execution_count": null,
   "metadata": {},
   "outputs": [],
   "source": []
  }
 ],
 "metadata": {
  "kernelspec": {
   "display_name": "wassup",
   "language": "python",
   "name": "python3"
  },
  "language_info": {
   "codemirror_mode": {
    "name": "ipython",
    "version": 3
   },
   "file_extension": ".py",
   "mimetype": "text/x-python",
   "name": "python",
   "nbconvert_exporter": "python",
   "pygments_lexer": "ipython3",
   "version": "3.11.7"
  }
 },
 "nbformat": 4,
 "nbformat_minor": 2
}
